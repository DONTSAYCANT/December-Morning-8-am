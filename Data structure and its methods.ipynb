{
 "cells": [
  {
   "cell_type": "code",
   "execution_count": 2,
   "metadata": {},
   "outputs": [
    {
     "name": "stdout",
     "output_type": "stream",
     "text": [
      "10\n",
      "20.0006\n"
     ]
    }
   ],
   "source": [
    "#Data structure in python\n",
    "\n",
    "a = 10\n",
    "b = 20\n",
    "c = True\n",
    "d = 20.0006\n",
    "\n",
    "\n",
    "val = [10 ,20, True, 20.0006] #Data structure #storing multiple values in effective manner\n",
    "\n",
    "print(val[0])\n",
    "print(val[-1])"
   ]
  },
  {
   "cell_type": "code",
   "execution_count": null,
   "metadata": {},
   "outputs": [],
   "source": [
    "#Differences and specialities\n",
    "\n",
    "#List**\n",
    "\n",
    "\n",
    "#Tuple\n",
    "\n",
    "\n",
    "#Set\n",
    "\n",
    "\n",
    "\n",
    "#Dictionary**\n",
    "\n",
    "\n"
   ]
  },
  {
   "cell_type": "markdown",
   "metadata": {},
   "source": [
    "## List and its methods"
   ]
  },
  {
   "cell_type": "code",
   "execution_count": 4,
   "metadata": {},
   "outputs": [
    {
     "name": "stdout",
     "output_type": "stream",
     "text": [
      "<class 'list'>\n"
     ]
    }
   ],
   "source": [
    "#Values available within []\n",
    "\n",
    "val = [1,3,4,5,6]\n",
    "\n",
    "print(type(val))"
   ]
  },
  {
   "cell_type": "code",
   "execution_count": null,
   "metadata": {},
   "outputs": [],
   "source": [
    "#python data structures are heterogenous\n",
    "\n",
    "val = [10 ,20, True, 20.0006] #multiple Datatype inside single DS\n",
    "\n"
   ]
  },
  {
   "cell_type": "code",
   "execution_count": 5,
   "metadata": {},
   "outputs": [
    {
     "name": "stdout",
     "output_type": "stream",
     "text": [
      "1\n",
      "6\n"
     ]
    }
   ],
   "source": [
    "#List ordered or indexed\n",
    "\n",
    "val = [1,3,4,5,6]\n",
    "print(val[0])\n",
    "print(val[-1])"
   ]
  },
  {
   "cell_type": "code",
   "execution_count": 6,
   "metadata": {},
   "outputs": [
    {
     "name": "stdout",
     "output_type": "stream",
     "text": [
      "[1, 1, 1, 2, 3, 4, 5, 5, 6]\n"
     ]
    }
   ],
   "source": [
    "#List allows duplicates\n",
    "\n",
    "val = [1,1,1,2,3,4,5,5,6]\n",
    "\n",
    "print(val)"
   ]
  },
  {
   "cell_type": "code",
   "execution_count": 7,
   "metadata": {},
   "outputs": [
    {
     "name": "stdout",
     "output_type": "stream",
     "text": [
      "[1, 2, 3, 4, 5, 6, 5, 7, 8, 4, 9]\n"
     ]
    }
   ],
   "source": [
    "#List supports concatenation\n",
    "\n",
    "a = [1,2,3,4,5]\n",
    "b = [6,5,7,8,4,9]\n",
    "\n",
    "print(a+b)"
   ]
  },
  {
   "cell_type": "code",
   "execution_count": 9,
   "metadata": {},
   "outputs": [
    {
     "name": "stdout",
     "output_type": "stream",
     "text": [
      "[]\n",
      "<class 'list'>\n",
      "[]\n",
      "<class 'list'>\n"
     ]
    }
   ],
   "source": [
    "#Create a empty list\n",
    "\n",
    "x = []\n",
    "\n",
    "print(x)\n",
    "print(type(x))\n",
    "\n",
    "x = list()\n",
    "\n",
    "print(x)\n",
    "print(type(x))"
   ]
  },
  {
   "cell_type": "code",
   "execution_count": 11,
   "metadata": {},
   "outputs": [
    {
     "name": "stdout",
     "output_type": "stream",
     "text": [
      "None\n"
     ]
    }
   ],
   "source": [
    "#append\n",
    "\n",
    "a = [10,20,3,5,6,9]\n",
    "\n",
    "a.append(100)\n",
    "\n",
    "print(a)"
   ]
  },
  {
   "cell_type": "code",
   "execution_count": 12,
   "metadata": {},
   "outputs": [
    {
     "name": "stdout",
     "output_type": "stream",
     "text": [
      "[10, 20, 200, 3, 5, 6, 9]\n"
     ]
    }
   ],
   "source": [
    "#insert\n",
    "\n",
    "a = [10,20,3,5,6,9]\n",
    "\n",
    "a.insert(2,200) #(index, value)\n",
    "\n",
    "print(a)"
   ]
  },
  {
   "cell_type": "code",
   "execution_count": 14,
   "metadata": {},
   "outputs": [
    {
     "name": "stdout",
     "output_type": "stream",
     "text": [
      "[3, 4, 5]\n",
      "[3, 5]\n"
     ]
    }
   ],
   "source": [
    "#pop\n",
    "\n",
    "a = [3,4,5,6]\n",
    "\n",
    "a.pop() #it will remve last value\n",
    "\n",
    "print(a)\n",
    "\n",
    "a.pop(1) #index number\n",
    "\n",
    "print(a)"
   ]
  },
  {
   "cell_type": "code",
   "execution_count": 16,
   "metadata": {},
   "outputs": [
    {
     "name": "stdout",
     "output_type": "stream",
     "text": [
      "[3, 4, 5, 6, 1, 'hello']\n",
      "[3, 4, 5, 6, 1]\n"
     ]
    }
   ],
   "source": [
    "#remove\n",
    "\n",
    "a = [3,4,5,6,1,2,\"hello\"]\n",
    "\n",
    "a.remove(2)\n",
    "\n",
    "print(a)\n",
    "\n",
    "a.remove(\"hello\")\n",
    "\n",
    "print(a)"
   ]
  },
  {
   "cell_type": "code",
   "execution_count": 18,
   "metadata": {},
   "outputs": [
    {
     "name": "stdout",
     "output_type": "stream",
     "text": [
      "[1, 2, 3, 4, 8, 0, 9, 'hello']\n"
     ]
    }
   ],
   "source": [
    "#extend\n",
    "\n",
    "a = [1,2,3,4]\n",
    "b = [8,0,9,\"hello\"]\n",
    "\n",
    "a.extend(b)\n",
    "\n",
    "print(a)\n"
   ]
  },
  {
   "cell_type": "code",
   "execution_count": 19,
   "metadata": {},
   "outputs": [
    {
     "name": "stdout",
     "output_type": "stream",
     "text": [
      "1\n"
     ]
    }
   ],
   "source": [
    "#index\n",
    "\n",
    "a = [1,2,3,0,5,6]\n",
    "\n",
    "print(a.index(2))\n",
    "\n"
   ]
  },
  {
   "cell_type": "code",
   "execution_count": 20,
   "metadata": {},
   "outputs": [
    {
     "name": "stdout",
     "output_type": "stream",
     "text": [
      "2\n"
     ]
    }
   ],
   "source": [
    "#count\n",
    "\n",
    "a = [1,1,3,3,3,4,4,4,4,4,5,5]\n",
    "\n",
    "print(a.count(5))"
   ]
  },
  {
   "cell_type": "code",
   "execution_count": 21,
   "metadata": {},
   "outputs": [
    {
     "name": "stdout",
     "output_type": "stream",
     "text": [
      "32\n",
      "0\n",
      "12\n"
     ]
    }
   ],
   "source": [
    "#sum/min/max\n",
    "\n",
    "a = [1,2,3,4,0,10,12]\n",
    "\n",
    "print(sum(a))\n",
    "print(min(a))\n",
    "print(max(a))"
   ]
  },
  {
   "cell_type": "code",
   "execution_count": 22,
   "metadata": {},
   "outputs": [
    {
     "name": "stdout",
     "output_type": "stream",
     "text": [
      "[2, 4, 5, 6, 7, 10, 12, 14]\n"
     ]
    }
   ],
   "source": [
    "#sort (ascending/descending)\n",
    "\n",
    "a = [4,5,6,7,10,12,14,2]\n",
    "\n",
    "a.sort() #Ascending order\n",
    "\n",
    "print(a)"
   ]
  },
  {
   "cell_type": "code",
   "execution_count": 24,
   "metadata": {},
   "outputs": [
    {
     "name": "stdout",
     "output_type": "stream",
     "text": [
      "[14.0, 12, 10.3, 7, 6, 5, 4, 2]\n"
     ]
    }
   ],
   "source": [
    "a = [4,5,6,7,10.3,12,14.0,2]\n",
    "\n",
    "a.sort(reverse=True) #descending order\n",
    "\n",
    "print(a)"
   ]
  },
  {
   "cell_type": "code",
   "execution_count": 29,
   "metadata": {},
   "outputs": [
    {
     "name": "stdout",
     "output_type": "stream",
     "text": [
      "['hello', 'hi', 'python', 'zebra']\n"
     ]
    }
   ],
   "source": [
    "a = [\"zebra\",\"hello\", \"hi\", \"python\"]\n",
    "\n",
    "a.sort()\n",
    "\n",
    "print(a)"
   ]
  },
  {
   "cell_type": "code",
   "execution_count": 25,
   "metadata": {},
   "outputs": [
    {
     "name": "stdout",
     "output_type": "stream",
     "text": [
      "[2, 14, 12, 10, 7, 6, 5, 4]\n"
     ]
    }
   ],
   "source": [
    "#reverse\n",
    "\n",
    "a = [4,5,6,7,10,12,14,2]\n",
    "\n",
    "a.reverse()\n",
    "\n",
    "print(a)\n"
   ]
  },
  {
   "cell_type": "code",
   "execution_count": null,
   "metadata": {},
   "outputs": [],
   "source": [
    "#clear\n",
    "\n",
    "a = [1,2,3,4,5,10]\n",
    "\n",
    "a.clear()\n",
    "\n",
    "print(a)"
   ]
  },
  {
   "cell_type": "code",
   "execution_count": null,
   "metadata": {},
   "outputs": [],
   "source": [
    "#copy #Deep copy and shallow copy"
   ]
  },
  {
   "cell_type": "code",
   "execution_count": null,
   "metadata": {},
   "outputs": [],
   "source": [
    "#del"
   ]
  },
  {
   "cell_type": "code",
   "execution_count": null,
   "metadata": {},
   "outputs": [],
   "source": [
    "#https://www.w3schools.com/python/python_ref_list.asp"
   ]
  }
 ],
 "metadata": {
  "kernelspec": {
   "display_name": "Python 3",
   "language": "python",
   "name": "python3"
  },
  "language_info": {
   "codemirror_mode": {
    "name": "ipython",
    "version": 3
   },
   "file_extension": ".py",
   "mimetype": "text/x-python",
   "name": "python",
   "nbconvert_exporter": "python",
   "pygments_lexer": "ipython3",
   "version": "3.7.6"
  }
 },
 "nbformat": 4,
 "nbformat_minor": 4
}
