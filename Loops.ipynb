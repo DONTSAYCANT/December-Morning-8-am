{
 "cells": [
  {
   "cell_type": "code",
   "execution_count": null,
   "metadata": {},
   "outputs": [],
   "source": [
    "#Range function\n",
    "\n",
    "\n",
    "#for loop\n",
    "#for with range\n",
    "#for with Data struct (List, Tuple, Set, Dict)\n",
    "\n",
    "#while loop\n",
    "\n",
    "#for with break continue pass\n",
    "#while with break continue pass\n",
    "\n",
    "\n",
    "#for else\n",
    "#while else"
   ]
  },
  {
   "cell_type": "code",
   "execution_count": null,
   "metadata": {},
   "outputs": [],
   "source": [
    "#Loop\n",
    "\n",
    "#If you want to execute same code for multiple times"
   ]
  },
  {
   "cell_type": "code",
   "execution_count": 2,
   "metadata": {},
   "outputs": [
    {
     "name": "stdout",
     "output_type": "stream",
     "text": [
      "hello world python\n",
      "hello world python\n",
      "hello world python\n",
      "hello world python\n",
      "hello world python\n",
      "hello world python\n",
      "hello world python\n",
      "hello world python\n",
      "hello world python\n",
      "hello world python\n"
     ]
    }
   ],
   "source": [
    "print(\"hello world python\")\n",
    "print(\"hello world python\")\n",
    "print(\"hello world python\")\n",
    "print(\"hello world python\")\n",
    "print(\"hello world python\")\n",
    "print(\"hello world python\")\n",
    "print(\"hello world python\")\n",
    "print(\"hello world python\")\n",
    "print(\"hello world python\")\n",
    "print(\"hello world python\")"
   ]
  },
  {
   "cell_type": "code",
   "execution_count": 6,
   "metadata": {},
   "outputs": [
    {
     "name": "stdout",
     "output_type": "stream",
     "text": [
      "hello world python0\n",
      "hello world python1\n",
      "hello world python2\n",
      "hello world python3\n",
      "hello world python4\n",
      "hello world python5\n",
      "hello world python6\n",
      "hello world python7\n",
      "hello world python8\n",
      "hello world python9\n"
     ]
    }
   ],
   "source": [
    "for i in range(10):\n",
    "    print(\"hello world python\"+str(i))"
   ]
  },
  {
   "cell_type": "markdown",
   "metadata": {},
   "source": [
    "## Range"
   ]
  },
  {
   "cell_type": "code",
   "execution_count": null,
   "metadata": {},
   "outputs": [],
   "source": [
    "Li1 = [1,2,3,4,5,6,7,8,9,10]"
   ]
  },
  {
   "cell_type": "code",
   "execution_count": null,
   "metadata": {},
   "outputs": [],
   "source": [
    "range(Starting value (include), ending value (exclude), interval (optional))"
   ]
  },
  {
   "cell_type": "code",
   "execution_count": 7,
   "metadata": {},
   "outputs": [
    {
     "name": "stdout",
     "output_type": "stream",
     "text": [
      "[0, 1, 2, 3, 4, 5, 6, 7, 8, 9]\n"
     ]
    }
   ],
   "source": [
    "print(list(range(10)))"
   ]
  },
  {
   "cell_type": "code",
   "execution_count": 8,
   "metadata": {},
   "outputs": [
    {
     "name": "stdout",
     "output_type": "stream",
     "text": [
      "[101, 102, 103, 104, 105, 106, 107, 108, 109, 110, 111, 112, 113, 114, 115, 116, 117, 118, 119]\n"
     ]
    }
   ],
   "source": [
    "print(list(range(101,120)))"
   ]
  },
  {
   "cell_type": "code",
   "execution_count": 9,
   "metadata": {},
   "outputs": [
    {
     "name": "stdout",
     "output_type": "stream",
     "text": [
      "[0, 5, 10, 15, 20, 25, 30, 35, 40, 45, 50, 55, 60, 65, 70, 75, 80, 85, 90, 95]\n"
     ]
    }
   ],
   "source": [
    "print(list(range(0,100,5)))"
   ]
  },
  {
   "cell_type": "code",
   "execution_count": 10,
   "metadata": {},
   "outputs": [
    {
     "name": "stdout",
     "output_type": "stream",
     "text": [
      "[100, 99, 98, 97, 96, 95, 94, 93, 92, 91, 90, 89, 88, 87, 86, 85, 84, 83, 82, 81]\n"
     ]
    }
   ],
   "source": [
    "print(list(range(100,80,-1)))"
   ]
  },
  {
   "cell_type": "markdown",
   "metadata": {},
   "source": [
    "## For Loop"
   ]
  },
  {
   "cell_type": "code",
   "execution_count": null,
   "metadata": {},
   "outputs": [],
   "source": [
    "\n",
    "#for keyword for for loop\n",
    "#in is membership operator\n",
    "\n",
    "\n",
    "for <temp_variable> in <Data>:\n",
    "    <code1>\n",
    "    <code2>"
   ]
  },
  {
   "cell_type": "code",
   "execution_count": 11,
   "metadata": {},
   "outputs": [
    {
     "name": "stdout",
     "output_type": "stream",
     "text": [
      "The value :  4\n",
      "The value :  5\n",
      "The value :  python\n",
      "The value :  True\n",
      "The value :  10.005\n"
     ]
    }
   ],
   "source": [
    "#for loop with List\n",
    "\n",
    "Li1 = [4,5,\"python\", True, 10.005]\n",
    "\n",
    "for i in Li1:\n",
    "    print(\"The value : \", i)"
   ]
  },
  {
   "cell_type": "code",
   "execution_count": 13,
   "metadata": {},
   "outputs": [
    {
     "name": "stdout",
     "output_type": "stream",
     "text": [
      "4\n",
      "5\n",
      "python\n",
      "True\n",
      "10.005\n"
     ]
    }
   ],
   "source": [
    "Li1 = [4,5,\"python\", True, 10.005]\n",
    "\n",
    "for i in Li1:\n",
    "    print(i)"
   ]
  },
  {
   "cell_type": "code",
   "execution_count": 15,
   "metadata": {},
   "outputs": [
    {
     "name": "stdout",
     "output_type": "stream",
     "text": [
      "0\n",
      "1\n",
      "2\n",
      "3\n",
      "4\n",
      "5\n",
      "6\n",
      "7\n",
      "8\n",
      "9\n"
     ]
    }
   ],
   "source": [
    "#for loop with range\n",
    "\n",
    "for i in range(10):\n",
    "    print(i)"
   ]
  },
  {
   "cell_type": "code",
   "execution_count": 16,
   "metadata": {},
   "outputs": [
    {
     "name": "stdout",
     "output_type": "stream",
     "text": [
      "0\n",
      "2\n",
      "4\n",
      "6\n",
      "8\n"
     ]
    }
   ],
   "source": [
    "for i in range(10):\n",
    "    if i % 2 == 0:\n",
    "        print(i)"
   ]
  },
  {
   "cell_type": "code",
   "execution_count": 18,
   "metadata": {},
   "outputs": [
    {
     "name": "stdout",
     "output_type": "stream",
     "text": [
      "0 is even number\n",
      "1 is odd number\n",
      "2 is even number\n",
      "3 is odd number\n",
      "4 is even number\n",
      "5 is odd number\n",
      "6 is even number\n",
      "7 is odd number\n",
      "8 is even number\n",
      "9 is odd number\n"
     ]
    }
   ],
   "source": [
    "for i in range(10):\n",
    "    if i % 2 == 0:\n",
    "        print(str(i) + \" is even number\")\n",
    "    else:\n",
    "        print(str(i) + \" is odd number\")"
   ]
  },
  {
   "cell_type": "code",
   "execution_count": 19,
   "metadata": {},
   "outputs": [
    {
     "name": "stdout",
     "output_type": "stream",
     "text": [
      "hello\n",
      "hi\n",
      "10\n",
      "20\n",
      "30.002\n"
     ]
    }
   ],
   "source": [
    "#for loop with tuple/set/Dictionary\n",
    "\n",
    "tup1 = (\"hello\", \"hi\", 10, 20, 30.002)\n",
    "\n",
    "for i in tup1:\n",
    "    print(i)"
   ]
  },
  {
   "cell_type": "code",
   "execution_count": 22,
   "metadata": {},
   "outputs": [
    {
     "name": "stdout",
     "output_type": "stream",
     "text": [
      "hello\n",
      "hi\n",
      "10\n",
      "20\n",
      "30.002\n"
     ]
    }
   ],
   "source": [
    "tup1 = [\"hello\", \"hi\", 10, 20, 30.002]\n",
    "\n",
    "for i in tup1:\n",
    "    print(i)"
   ]
  },
  {
   "cell_type": "code",
   "execution_count": 34,
   "metadata": {},
   "outputs": [
    {
     "name": "stdout",
     "output_type": "stream",
     "text": [
      "10\n",
      "20\n",
      "hello\n",
      "30.002\n",
      "hi\n"
     ]
    }
   ],
   "source": [
    "tup1 = {\"hello\", \"hi\", 10, 20, 30.002}\n",
    "\n",
    "for x in tup1:\n",
    "    print(x)"
   ]
  },
  {
   "cell_type": "code",
   "execution_count": 24,
   "metadata": {},
   "outputs": [
    {
     "name": "stdout",
     "output_type": "stream",
     "text": [
      "1\n",
      "2\n",
      "10\n",
      "5\n"
     ]
    }
   ],
   "source": [
    "#For with Dict\n",
    "\n",
    "#Type1\n",
    "\n",
    "dict1 = {1: \"python\", 2:\"cpp\", 10:\"go\", 5:\"groovy\"}\n",
    "\n",
    "for i in dict1:\n",
    "    print(i)"
   ]
  },
  {
   "cell_type": "code",
   "execution_count": 26,
   "metadata": {},
   "outputs": [
    {
     "name": "stdout",
     "output_type": "stream",
     "text": [
      "1\n",
      "2\n",
      "10\n",
      "5\n"
     ]
    }
   ],
   "source": [
    "#Type2\n",
    "dict1 = {1: \"python\", 2:\"cpp\", 10:\"go\", 5:\"groovy\"}\n",
    "\n",
    "for i in dict1.keys():\n",
    "    print(i)"
   ]
  },
  {
   "cell_type": "code",
   "execution_count": 27,
   "metadata": {},
   "outputs": [
    {
     "name": "stdout",
     "output_type": "stream",
     "text": [
      "python\n",
      "cpp\n",
      "go\n",
      "groovy\n"
     ]
    }
   ],
   "source": [
    "#Type3\n",
    "dict1 = {1: \"python\", 2:\"cpp\", 10:\"go\", 5:\"groovy\"}\n",
    "\n",
    "for i in dict1.values():\n",
    "    print(i)"
   ]
  },
  {
   "cell_type": "code",
   "execution_count": 28,
   "metadata": {},
   "outputs": [
    {
     "name": "stdout",
     "output_type": "stream",
     "text": [
      "key  1\n",
      "value  python\n",
      "key  2\n",
      "value  cpp\n",
      "key  10\n",
      "value  go\n",
      "key  5\n",
      "value  groovy\n"
     ]
    }
   ],
   "source": [
    "#Type4\n",
    "dict1 = {1: \"python\", 2:\"cpp\", 10:\"go\", 5:\"groovy\"}\n",
    "\n",
    "for i in dict1:\n",
    "    print(\"key \", i)\n",
    "    print(\"value \", dict1[i])"
   ]
  },
  {
   "cell_type": "code",
   "execution_count": 30,
   "metadata": {},
   "outputs": [
    {
     "name": "stdout",
     "output_type": "stream",
     "text": [
      "(1, 'python')\n",
      "(2, 'cpp')\n",
      "(10, 'go')\n",
      "(5, 'groovy')\n"
     ]
    }
   ],
   "source": [
    "#Type5\n",
    "dict1 = {1: \"python\", 2:\"cpp\", 10:\"go\", 5:\"groovy\"}\n",
    "\n",
    "for i in dict1.items():\n",
    "    print(i)"
   ]
  },
  {
   "cell_type": "code",
   "execution_count": 32,
   "metadata": {},
   "outputs": [
    {
     "name": "stdout",
     "output_type": "stream",
     "text": [
      "1\n",
      "python\n",
      "2\n",
      "cpp\n",
      "10\n",
      "go\n",
      "5\n",
      "groovy\n"
     ]
    }
   ],
   "source": [
    "#Type6\n",
    "dict1 = {1: \"python\", 2:\"cpp\", 10:\"go\", 5:\"groovy\"}\n",
    "\n",
    "for i,j in dict1.items():\n",
    "    print(i)\n",
    "    print(j)"
   ]
  },
  {
   "cell_type": "markdown",
   "metadata": {},
   "source": [
    "## While Loop"
   ]
  },
  {
   "cell_type": "code",
   "execution_count": null,
   "metadata": {},
   "outputs": [],
   "source": [
    "#Condition"
   ]
  },
  {
   "cell_type": "code",
   "execution_count": 36,
   "metadata": {},
   "outputs": [
    {
     "name": "stdout",
     "output_type": "stream",
     "text": [
      "The value is lesser than 20  10\n",
      "The value is lesser than 20  11\n",
      "The value is lesser than 20  12\n",
      "The value is lesser than 20  13\n",
      "The value is lesser than 20  14\n",
      "The value is lesser than 20  15\n",
      "The value is lesser than 20  16\n",
      "The value is lesser than 20  17\n",
      "The value is lesser than 20  18\n",
      "The value is lesser than 20  19\n"
     ]
    }
   ],
   "source": [
    "a = 10\n",
    "\n",
    "while a < 20:\n",
    "    print(\"The value is lesser than 20 \", a)\n",
    "    a = a + 1 #No automatic increment # we need write logic for increment or decrement\n",
    "    \n",
    "#Infinite loop : Same loop is executing for multiple attempts\n"
   ]
  },
  {
   "cell_type": "code",
   "execution_count": 37,
   "metadata": {},
   "outputs": [
    {
     "name": "stdout",
     "output_type": "stream",
     "text": [
      "The current counter:  0\n",
      "The current counter:  1\n",
      "The current counter:  2\n",
      "The current counter:  3\n",
      "The current counter:  4\n",
      "The current counter:  5\n",
      "The current counter:  6\n",
      "The current counter:  7\n",
      "The current counter:  8\n",
      "The current counter:  9\n",
      "The current counter:  10\n"
     ]
    }
   ],
   "source": [
    "a = 0\n",
    "\n",
    "while a < 11:\n",
    "    print(\"The current counter: \", a)\n",
    "    a = a + 1"
   ]
  },
  {
   "cell_type": "code",
   "execution_count": 38,
   "metadata": {},
   "outputs": [
    {
     "name": "stdout",
     "output_type": "stream",
     "text": [
      "The current counter:  0\n",
      "The current counter:  1\n",
      "The current counter:  2\n",
      "The current counter:  3\n",
      "The current counter:  4\n",
      "The current counter:  5\n",
      "The current counter:  6\n",
      "The current counter:  7\n",
      "The current counter:  8\n",
      "The current counter:  9\n"
     ]
    }
   ],
   "source": [
    "for i in range(10):\n",
    "    print(\"The current counter: \", i)"
   ]
  },
  {
   "cell_type": "markdown",
   "metadata": {},
   "source": [
    "## Break Continue Pass"
   ]
  },
  {
   "cell_type": "code",
   "execution_count": 44,
   "metadata": {},
   "outputs": [
    {
     "name": "stdout",
     "output_type": "stream",
     "text": [
      "The current value is  1\n",
      "The current value is  2\n",
      "The current value is  3\n",
      "The current value is  4\n",
      "The current value is  5\n",
      "The current value is  6\n",
      "The current value is  7\n",
      "The current value is  8\n",
      "The current value is  9\n",
      "The current value is  10\n",
      "The current value is  11\n",
      "The current value is  12\n",
      "The current value is  13\n",
      "The current value is  14\n"
     ]
    }
   ],
   "source": [
    "for i in range(1,30):\n",
    "    if i % 15 == 0:\n",
    "        break #permanently come out of loop\n",
    "    print(\"The current value is \" ,i)"
   ]
  },
  {
   "cell_type": "code",
   "execution_count": 4,
   "metadata": {},
   "outputs": [
    {
     "name": "stdout",
     "output_type": "stream",
     "text": [
      "The current value is  1\n",
      "The current value is  2\n",
      "The current value is  3\n",
      "The current value is  4\n",
      "The current value is  5\n",
      "The current value is  6\n",
      "The current value is  7\n",
      "The current value is  8\n",
      "The current value is  9\n",
      "The current value is  10\n",
      "The current value is  11\n",
      "The current value is  12\n",
      "The current value is  13\n",
      "The current value is  14\n",
      "The current value is  16\n",
      "The current value is  17\n",
      "The current value is  19\n",
      "The current value is  20\n",
      "The current value is  21\n",
      "The current value is  22\n",
      "The current value is  23\n",
      "The current value is  24\n",
      "The current value is  25\n",
      "The current value is  26\n",
      "The current value is  27\n",
      "The current value is  28\n",
      "The current value is  29\n"
     ]
    }
   ],
   "source": [
    "for i in range(1,30):\n",
    "    if i % 15 == 0 or i % 18 == 0:\n",
    "        continue #Temp come out of loop #skip for some iterations\n",
    "    print(\"The current value is \" ,i)"
   ]
  },
  {
   "cell_type": "code",
   "execution_count": 45,
   "metadata": {},
   "outputs": [
    {
     "name": "stdout",
     "output_type": "stream",
     "text": [
      "The current counter:  0\n",
      "The current counter:  1\n",
      "The current counter:  2\n",
      "The current counter:  3\n",
      "The current counter:  4\n",
      "The current counter:  5\n",
      "The current counter:  6\n",
      "7 break\n"
     ]
    }
   ],
   "source": [
    "a = 0\n",
    "\n",
    "while a < 11:\n",
    "    print(\"The current counter: \", a)\n",
    "    a = a + 1\n",
    "    \n",
    "    if a % 7 == 0:\n",
    "        print(\"7 break\")\n",
    "        break"
   ]
  },
  {
   "cell_type": "code",
   "execution_count": 47,
   "metadata": {},
   "outputs": [
    {
     "name": "stdout",
     "output_type": "stream",
     "text": [
      "The current counter:  1\n",
      "The current counter:  2\n",
      "The current counter:  3\n",
      "The current counter:  4\n",
      "The current counter:  5\n",
      "The current counter:  6\n",
      "7 break\n",
      "The current counter:  8\n",
      "The current counter:  9\n",
      "The current counter:  10\n",
      "The current counter:  11\n"
     ]
    }
   ],
   "source": [
    "a = 0\n",
    "\n",
    "while a < 11:\n",
    "    a = a + 1\n",
    "    \n",
    "    if a % 7 == 0:\n",
    "        print(\"7 break\")\n",
    "        continue\n",
    "    print(\"The current counter: \", a)"
   ]
  },
  {
   "cell_type": "code",
   "execution_count": 6,
   "metadata": {},
   "outputs": [
    {
     "ename": "IndentationError",
     "evalue": "expected an indented block (<ipython-input-6-7ce325c72333>, line 6)",
     "output_type": "error",
     "traceback": [
      "\u001b[1;36m  File \u001b[1;32m\"<ipython-input-6-7ce325c72333>\"\u001b[1;36m, line \u001b[1;32m6\u001b[0m\n\u001b[1;33m    elif i % 2 == 0:\u001b[0m\n\u001b[1;37m       ^\u001b[0m\n\u001b[1;31mIndentationError\u001b[0m\u001b[1;31m:\u001b[0m expected an indented block\n"
     ]
    }
   ],
   "source": [
    "#Pass #filling line\n",
    "\n",
    "for i in range(-10,10):\n",
    "    if i == 0:\n",
    "        pass\n",
    "    elif i % 2 == 0:\n",
    "        print(\"even\", i)\n",
    "    elif i % 2 != 0 :\n",
    "        print(\"odd\", i)\n",
    "\n",
    "\n"
   ]
  },
  {
   "cell_type": "markdown",
   "metadata": {},
   "source": [
    "## For else and while else"
   ]
  },
  {
   "cell_type": "code",
   "execution_count": 57,
   "metadata": {},
   "outputs": [
    {
     "name": "stdout",
     "output_type": "stream",
     "text": [
      "The current value is  1\n",
      "The current value is  2\n",
      "The current value is  3\n"
     ]
    }
   ],
   "source": [
    "for i in range(1,5):\n",
    "    if i % 4 == 0:\n",
    "        break #permanently come out of loop\n",
    "    print(\"The current value is \" ,i)\n",
    "else:\n",
    "    print(\"Complete loop executed\")"
   ]
  },
  {
   "cell_type": "code",
   "execution_count": 58,
   "metadata": {},
   "outputs": [
    {
     "name": "stdout",
     "output_type": "stream",
     "text": [
      "The current value is  1\n",
      "The current value is  2\n",
      "The current value is  3\n",
      "The current value is  4\n",
      "Complete loop executed\n"
     ]
    }
   ],
   "source": [
    "for i in range(1,5):\n",
    "    if i % 6 == 0:\n",
    "        break #permanently come out of loop\n",
    "    print(\"The current value is \" ,i)\n",
    "else:\n",
    "    print(\"Complete loop executed\")"
   ]
  },
  {
   "cell_type": "code",
   "execution_count": 61,
   "metadata": {},
   "outputs": [
    {
     "name": "stdout",
     "output_type": "stream",
     "text": [
      "The current counter:  1\n",
      "The current counter:  2\n",
      "The current counter:  3\n",
      "The current counter:  4\n",
      "The current counter:  5\n",
      "The current counter:  6\n",
      "The current counter:  7\n",
      "The current counter:  8\n",
      "The current counter:  9\n",
      "The current counter:  10\n",
      "The current counter:  11\n",
      "Complete loop executed\n"
     ]
    }
   ],
   "source": [
    "a = 0\n",
    "\n",
    "while a < 11:\n",
    "    a = a + 1\n",
    "    \n",
    "    if a % 12 == 0:\n",
    "        print(\"7 break\")\n",
    "        break\n",
    "    print(\"The current counter: \", a)\n",
    "else:\n",
    "    print(\"Complete loop executed\")"
   ]
  },
  {
   "cell_type": "code",
   "execution_count": null,
   "metadata": {},
   "outputs": [],
   "source": [
    "#break is seen in the loop ==> else part will not work\n",
    "\n",
    "#if break is not seen ==> else part will work\n",
    "\n",
    "For else while else\n",
    "\n",
    "#For checking whether my Loop executed completlely or no"
   ]
  },
  {
   "cell_type": "code",
   "execution_count": null,
   "metadata": {},
   "outputs": [],
   "source": [
    "#https://www.w3schools.com/python/python_conditions.asp\n",
    "#https://www.w3schools.com/python/python_while_loops.asp\n",
    "#https://www.w3schools.com/python/python_for_loops.asp\n",
    "\n",
    "Automate boring stuffs with python\n",
    "\n",
    "#https://automatetheboringstuff.com/"
   ]
  },
  {
   "cell_type": "code",
   "execution_count": 10,
   "metadata": {},
   "outputs": [
    {
     "name": "stdout",
     "output_type": "stream",
     "text": [
      "75\n",
      "70\n",
      "65\n",
      "60\n",
      "55\n",
      "50\n",
      "45\n",
      "40\n",
      "35\n",
      "30\n",
      "25\n",
      "20\n",
      "15\n",
      "10\n",
      "5\n"
     ]
    }
   ],
   "source": [
    "for i in range(75,0,-5):\n",
    "    print(i)"
   ]
  },
  {
   "cell_type": "code",
   "execution_count": null,
   "metadata": {},
   "outputs": [],
   "source": []
  }
 ],
 "metadata": {
  "kernelspec": {
   "display_name": "Python 3",
   "language": "python",
   "name": "python3"
  },
  "language_info": {
   "codemirror_mode": {
    "name": "ipython",
    "version": 3
   },
   "file_extension": ".py",
   "mimetype": "text/x-python",
   "name": "python",
   "nbconvert_exporter": "python",
   "pygments_lexer": "ipython3",
   "version": "3.7.6"
  }
 },
 "nbformat": 4,
 "nbformat_minor": 4
}
