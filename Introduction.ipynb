{
 "cells": [
  {
   "cell_type": "code",
   "execution_count": null,
   "metadata": {},
   "outputs": [],
   "source": [
    "#Timing : 8 am to 9 am IST\n",
    "\n",
    "#Python\n",
    "#\n",
    "Pre requi:\n",
    "    \n",
    "#IDLE / Pycharm / Jupyter:\n",
    "\n",
    "#IDE ==> int dev environment\n",
    "#https://www.python.org/downloads/\n",
    "\n",
    "\n",
    "#Hackerrank / Hackerearth / Leetcode /\n",
    "#Online coding platform\n",
    "#compet\n",
    "\n",
    "#https://www.hackerrank.com/\n",
    "#signup\n",
    "#signin\n",
    "#go to python track\n",
    "#read about some problems\n",
    "\n",
    "#minimum 300 to 400 points python\n",
    "#regex 250 points\n",
    "\n",
    "\n",
    "#Github\n",
    "\n",
    "#https://github.com/\n",
    "#signup\n",
    "#signin\n",
    "#Create a repo\n",
    "#upload your assignments\n"
   ]
  },
  {
   "cell_type": "code",
   "execution_count": null,
   "metadata": {},
   "outputs": [],
   "source": [
    "#Topic discussion\n",
    "\n",
    "#Class\n",
    "\n",
    "#20 % 80 % coding\n",
    "#minmium 5 tasks \n",
    "#50 -days to 60 days\n",
    "\n",
    "#Basic level: 20-25\n",
    "#medium level: 15 - 20 days\n",
    "#advanced :15 - 20day\n",
    "\n",
    "#3-5 project\n",
    "#3 test ==> (50 marks : 35 marks)\n",
    "#seminars/Topic discussion\n",
    "\n",
    "\n",
    "#Hackerrank\n",
    "#350 - 400 python\n",
    "#250 regex\n",
    "\n",
    "#Interview questions"
   ]
  },
  {
   "cell_type": "code",
   "execution_count": null,
   "metadata": {},
   "outputs": [],
   "source": [
    "\n",
    "#Beginner friendly\n",
    "#easy readable\n",
    "#Community \n",
    "#Simple ==> development time is less\n",
    "#Rich library\n",
    "\n",
    "#open source\n",
    "\n",
    "\n",
    "#cron job or periodic build\n",
    "#set of commands\n",
    "\n",
    "#Programming ?\n",
    "\n",
    "\n",
    "#Login to the system\n",
    "#Go to specfic directory\n",
    "#Execute the script\n",
    "#send output to specific file or log\n",
    "\n",
    "\n",
    "#Python ?\n",
    "\n",
    "#Beginner friendly\n",
    "#Syntax simple "
   ]
  },
  {
   "cell_type": "code",
   "execution_count": null,
   "metadata": {},
   "outputs": [],
   "source": [
    "#;\n",
    "#{\n",
    "#}\n",
    "#main function\n",
    "#\n",
    "\n",
    "#web developement ==> Flask/Django\n",
    "#Testing ==> python \n",
    "#Datascience ==> python R\n",
    "#DEvops ==> python\n",
    "#"
   ]
  },
  {
   "cell_type": "code",
   "execution_count": null,
   "metadata": {},
   "outputs": [],
   "source": [
    "#compiler ?  Interpreter ?\n",
    "\n",
    "#Python \n",
    "\n",
    "#Interpreted\n",
    "#OOp language\n",
    "\n",
    "\n",
    "#High level language\n",
    "#\n",
    "#Machine friendly but not user friendly \n",
    "#Machine understandable form ==> ascii\n",
    "\n",
    "#a\n",
    "#A\n",
    "#{\n",
    "#%\n",
    "#}\n",
    "\n",
    "#4 ==> 100 \n",
    "\n",
    "#Ascii ==> conversion of normal value (a, A , % , 10) ==> an integer"
   ]
  },
  {
   "cell_type": "code",
   "execution_count": null,
   "metadata": {},
   "outputs": [],
   "source": [
    "#Any pgm language:\n",
    "\n",
    "\n",
    "#variable\n",
    "#Data type\n",
    "#Data structure\n",
    "#Operator\n",
    "#function\n"
   ]
  },
  {
   "cell_type": "code",
   "execution_count": null,
   "metadata": {},
   "outputs": [],
   "source": [
    "#variable ?\n",
    "\n",
    "\n",
    "#reserved memory\n",
    "#Storing values\n",
    "\n",
    "#Rules availble for variable creation"
   ]
  },
  {
   "cell_type": "code",
   "execution_count": null,
   "metadata": {},
   "outputs": [],
   "source": [
    "a = 10\n",
    "b = 20\n",
    "print(a+b)"
   ]
  },
  {
   "cell_type": "code",
   "execution_count": null,
   "metadata": {},
   "outputs": [],
   "source": [
    "#Variable contains ==> alphabets,number,_ (a-zA-Z0-9_)\n",
    "#It should start with alphabet or _ (it should not start with number)\n",
    "#keywords are reserved words cannot be used as variable\n",
    "#you cannpt user space\n",
    "#it's case sensitive\n"
   ]
  },
  {
   "cell_type": "code",
   "execution_count": null,
   "metadata": {},
   "outputs": [],
   "source": [
    "abhfkfk78999 = 10\n",
    "aA10 = 20 "
   ]
  },
  {
   "cell_type": "code",
   "execution_count": null,
   "metadata": {},
   "outputs": [],
   "source": [
    "var10 = \"python\"\n",
    "#10var = python"
   ]
  },
  {
   "cell_type": "code",
   "execution_count": null,
   "metadata": {},
   "outputs": [],
   "source": [
    "user_input1 = 10"
   ]
  },
  {
   "cell_type": "code",
   "execution_count": null,
   "metadata": {},
   "outputs": [],
   "source": [
    "a = 10\n",
    "A = 10"
   ]
  },
  {
   "cell_type": "code",
   "execution_count": null,
   "metadata": {},
   "outputs": [],
   "source": [
    "user_input = 10\n",
    "user_Input = 20"
   ]
  },
  {
   "cell_type": "code",
   "execution_count": null,
   "metadata": {},
   "outputs": [],
   "source": [
    "#variable and variable creation rules (example pgms)\n",
    "\n",
    "\n",
    "\n",
    "#keywords  (10 keywords)\n",
    "\n",
    "#in and or not import from yield\n",
    "\n",
    "#Inbuilt functions\n",
    "\n",
    "#pre defined functions eg. print\n",
    "\n",
    "#Data type ==> int, float, boolean, string, complex\n",
    "\n",
    "#int alphabets /alpha numeric \n",
    "\n",
    "#Data structure\n",
    "\n",
    "#organising the data ...  list sets tuples dictionary \n",
    "\n",
    "#Operator ==> \n",
    "\n",
    "#arithmetic operators + - * / // ** %\n",
    "#comparison operator < <= > >= == !=\n",
    "#assignment perator =\n",
    "#Logical operator and or not\n",
    "#Membership operator in , not in\n",
    "\n",
    "\n",
    "#function\n",
    "\n",
    "#Block of code"
   ]
  },
  {
   "cell_type": "code",
   "execution_count": null,
   "metadata": {},
   "outputs": [],
   "source": [
    "x = 10"
   ]
  },
  {
   "cell_type": "code",
   "execution_count": null,
   "metadata": {},
   "outputs": [],
   "source": [
    "#variable creation:\n",
    "\n",
    "a1 = \"python\"\n",
    "\n",
    "var1 = 10\n",
    "\n",
    "#Give useful name to variables\n",
    "\n",
    "#Rules for creating variables\n",
    "\n",
    "#Variable contains ==> alphabets,number,_ (a-zA-Z0-9_)\n",
    "#It should start with alphabet or _ (it should not start with number)\n",
    "#keywords are reserved words cannot be used as variable\n",
    "#you cannpt user space\n",
    "#it's case sensitive\n",
    "\n"
   ]
  },
  {
   "cell_type": "code",
   "execution_count": 1,
   "metadata": {},
   "outputs": [
    {
     "name": "stdout",
     "output_type": "stream",
     "text": [
      "14\n",
      "6\n",
      "40\n",
      "2.5\n",
      "2\n",
      "10000\n",
      "2\n"
     ]
    }
   ],
   "source": [
    "#arithmetic operators + - * / // ** %\n",
    "\n",
    "\n",
    "a = 10\n",
    "b = 4\n",
    "\n",
    "#addition\n",
    "print(a+b) #14\n",
    "\n",
    "#subtraction\n",
    "print(a-b) #6\n",
    "\n",
    "#Multiplication\n",
    "print(a*b) #40\n",
    "\n",
    "#Divison\n",
    "print(a/b) #2.5\n",
    "\n",
    "#Modulus\n",
    "print(a%b) #2\n",
    "\n",
    "#Power operation\n",
    "print(a**b) #10000\n",
    "\n",
    "#Floor divison\n",
    "print(a//b) #"
   ]
  },
  {
   "cell_type": "code",
   "execution_count": 2,
   "metadata": {},
   "outputs": [
    {
     "name": "stdout",
     "output_type": "stream",
     "text": [
      "2\n",
      "0\n",
      "2\n",
      "2\n",
      "10\n",
      "4\n"
     ]
    }
   ],
   "source": [
    "#Modulus\n",
    "\n",
    "a = 10\n",
    "b = 4\n",
    "\n",
    "#Modulus\n",
    "print(a%b) #2\n",
    "#remiainder identity\n",
    "\n",
    "print(12 % 3) #0\n",
    "\n",
    "print(12 % 5) #2\n",
    "\n",
    "print(100 % 7) #2\n",
    "\n",
    "print(150 % 14) #10\n",
    "\n",
    "print(20 % 8) #4\n",
    "\n"
   ]
  },
  {
   "cell_type": "code",
   "execution_count": 3,
   "metadata": {},
   "outputs": [
    {
     "name": "stdout",
     "output_type": "stream",
     "text": [
      "1000\n",
      "16\n",
      "100\n",
      "125\n",
      "64\n"
     ]
    }
   ],
   "source": [
    "#Power operation\n",
    "\n",
    "print(10 ** 3) #10 * 10 * 10\n",
    "\n",
    "\n",
    "print(2 ** 4) #2 * 2 * 2 * 2\n",
    "\n",
    "print( 10 ** 2)\n",
    "\n",
    "print(5 ** 3) #5*5*5\n",
    "\n",
    "print(8 ** 2)"
   ]
  },
  {
   "cell_type": "code",
   "execution_count": null,
   "metadata": {},
   "outputs": [],
   "source": [
    "#Floor divison ==> integer output \n",
    "\n",
    "print(5 // 2) #2\n",
    "\n",
    "#Normal div\n",
    "#plot the value in line sacle\n",
    "#Idenify nearest small integer\n",
    "\n",
    "#5/2 ===> 2.5\n",
    "#-5 -4 -3 -2 -1 0 1 2 3 4 5\n",
    "\n",
    "print(7 // 3) #2 \n",
    "\n",
    "print(10 // 3) #3\n",
    "\n",
    "print(10 // 7) #1\n",
    "\n",
    "print(-5 // 2) #-3\n",
    "\n",
    "print(-7 // 3) # -3\n",
    "\n",
    "print(-10 // 3) #-4\n",
    "\n",
    "print(-10 // 7) #-2"
   ]
  },
  {
   "cell_type": "code",
   "execution_count": 2,
   "metadata": {},
   "outputs": [
    {
     "name": "stdout",
     "output_type": "stream",
     "text": [
      "hello\n",
      "hello world\n",
      "a\n",
      "10\n",
      "b\n",
      "value\n"
     ]
    }
   ],
   "source": [
    "#print\n",
    "\n",
    "#Data type ==> string\n",
    "\n",
    "#what ever available with \"string\"  'string'\n",
    "#\"\"\"string \"\"\"  '''string '''\n",
    "\n",
    "a = 10\n",
    "b = \"value\"\n",
    "\n",
    "print(\"hello\")\n",
    "\n",
    "print(\"hello world\")\n",
    "\n",
    "print(\"a\")\n",
    "\n",
    "print(a)\n",
    "\n",
    "print(\"b\")\n",
    "\n",
    "print(b)\n",
    "\n",
    "#print ==> inbuilt function ==> pre defined \n",
    "\n",
    "\n",
    "#Function def ==> function process\n",
    "#Function call ==> calling function def\n",
    "\n",
    "#print hello world \n",
    "#print hello world through variable"
   ]
  },
  {
   "cell_type": "code",
   "execution_count": 3,
   "metadata": {},
   "outputs": [
    {
     "name": "stdout",
     "output_type": "stream",
     "text": [
      "hello world\n",
      "hello world\n"
     ]
    }
   ],
   "source": [
    "#print hello world \n",
    "#print hello world through variable\n",
    "\n",
    "\n",
    "print(\"hello world\")\n",
    "\n",
    "var = \"hello world\"\n",
    "print(var)"
   ]
  },
  {
   "cell_type": "code",
   "execution_count": null,
   "metadata": {},
   "outputs": [],
   "source": [
    "#Data type\n",
    "\n",
    "#type of data\n",
    "\n",
    "#int 5 6 -78  99 200 10000 34 -1 0 \n",
    "\n",
    "#float  6.7 -0.99 -4.5  -5.6 -2.0  -10000.05\n",
    "\n",
    "#bool True False\n",
    "\n",
    "#string  #char ==> collection of chars or list of char\n",
    "\n",
    "#what ever available with \"string\"  'string'\n",
    "#\"\"\"string \"\"\"  '''string '''\n",
    "\n",
    "#complex 4 + 5j"
   ]
  },
  {
   "cell_type": "code",
   "execution_count": 5,
   "metadata": {},
   "outputs": [
    {
     "name": "stdout",
     "output_type": "stream",
     "text": [
      "5\n",
      "<class 'int'>\n",
      "<class 'int'>\n",
      "10\n",
      "-20\n"
     ]
    }
   ],
   "source": [
    "#Int\n",
    "\n",
    "a = 5\n",
    "print(a)\n",
    "print(type(a))\n",
    "\n",
    "print(type(10))\n",
    "\n",
    "\n",
    "print(10)\n",
    "print(-20)"
   ]
  },
  {
   "cell_type": "code",
   "execution_count": 6,
   "metadata": {},
   "outputs": [
    {
     "name": "stdout",
     "output_type": "stream",
     "text": [
      "<class 'float'>\n"
     ]
    }
   ],
   "source": [
    "#float \n",
    "\n",
    "a = 10.0005\n",
    "\n",
    "print(type(a))"
   ]
  },
  {
   "cell_type": "code",
   "execution_count": 8,
   "metadata": {},
   "outputs": [
    {
     "ename": "NameError",
     "evalue": "name 'true' is not defined",
     "output_type": "error",
     "traceback": [
      "\u001b[1;31m---------------------------------------------------------------------------\u001b[0m",
      "\u001b[1;31mNameError\u001b[0m                                 Traceback (most recent call last)",
      "\u001b[1;32m<ipython-input-8-934cf6b240d9>\u001b[0m in \u001b[0;36m<module>\u001b[1;34m\u001b[0m\n\u001b[1;32m----> 1\u001b[1;33m \u001b[0mval\u001b[0m \u001b[1;33m=\u001b[0m \u001b[0mtrue\u001b[0m\u001b[1;33m\u001b[0m\u001b[1;33m\u001b[0m\u001b[0m\n\u001b[0m\u001b[0;32m      2\u001b[0m \u001b[1;33m\u001b[0m\u001b[0m\n\u001b[0;32m      3\u001b[0m \u001b[0mprint\u001b[0m\u001b[1;33m(\u001b[0m\u001b[0mtype\u001b[0m\u001b[1;33m(\u001b[0m\u001b[0mval\u001b[0m\u001b[1;33m)\u001b[0m\u001b[1;33m)\u001b[0m\u001b[1;33m\u001b[0m\u001b[1;33m\u001b[0m\u001b[0m\n",
      "\u001b[1;31mNameError\u001b[0m: name 'true' is not defined"
     ]
    }
   ],
   "source": [
    "val = True\n",
    "\n",
    "val1 = False\n",
    "\n",
    "print(type(val))"
   ]
  },
  {
   "cell_type": "code",
   "execution_count": 11,
   "metadata": {},
   "outputs": [
    {
     "name": "stdout",
     "output_type": "stream",
     "text": [
      "python\n",
      "<class 'str'>\n",
      "10.00005\n",
      "<class 'str'>\n",
      "<class 'str'>\n"
     ]
    }
   ],
   "source": [
    "#Global data type in python\n",
    "\n",
    "a = \"python\"\n",
    "\n",
    "print(a)\n",
    "print(type(a))\n",
    "\n",
    "a = \"10.00005\"\n",
    "\n",
    "print(a)\n",
    "print(type(a))\n",
    "\n",
    "a = 'python'\n",
    "\n",
    "print(type(a))"
   ]
  },
  {
   "cell_type": "code",
   "execution_count": 14,
   "metadata": {},
   "outputs": [
    {
     "name": "stdout",
     "output_type": "stream",
     "text": [
      "<class 'str'>\n"
     ]
    }
   ],
   "source": [
    "a = \"c\"\n",
    "\n",
    "print(type(a))"
   ]
  },
  {
   "cell_type": "code",
   "execution_count": 13,
   "metadata": {},
   "outputs": [
    {
     "name": "stdout",
     "output_type": "stream",
     "text": [
      "hi guys\n",
      "\n",
      "welcome to python class\n",
      "\n",
      "\n",
      "This topic is important for understabnding data type\n",
      "\n",
      "Thanks\n"
     ]
    }
   ],
   "source": [
    "a = \"\"\"hi guys\n",
    "\n",
    "welcome to python class\n",
    "\n",
    "\n",
    "This topic is important for understabnding data type\n",
    "\n",
    "Thanks\"\"\"\n",
    "\n",
    "print(a)"
   ]
  },
  {
   "cell_type": "code",
   "execution_count": 21,
   "metadata": {},
   "outputs": [
    {
     "name": "stdout",
     "output_type": "stream",
     "text": [
      "bkjbkbklblbkllbkjbjkbjk,b jb jkm,, \n",
      "\n"
     ]
    }
   ],
   "source": [
    "a = \"\"\"bkjbkbklblbkllbkjbjkbjk,b jb jkm,, \n",
    "\"\"\"\n",
    "\n",
    "print(a)"
   ]
  },
  {
   "cell_type": "code",
   "execution_count": 12,
   "metadata": {},
   "outputs": [
    {
     "name": "stdout",
     "output_type": "stream",
     "text": [
      "I'm fine\n"
     ]
    }
   ],
   "source": [
    "#escape sequence\n",
    "\n",
    "a = \"I\\\"m fine\"\n",
    "print(a)"
   ]
  },
  {
   "cell_type": "code",
   "execution_count": 19,
   "metadata": {},
   "outputs": [
    {
     "name": "stdout",
     "output_type": "stream",
     "text": [
      "(4+5j)\n",
      "<class 'complex'>\n",
      "4.0\n",
      "5.0\n"
     ]
    }
   ],
   "source": [
    "a = 4 + 5j\n",
    "\n",
    "print(a)\n",
    "print(type(a))\n",
    "print(a.real)\n",
    "print(a.imag)"
   ]
  },
  {
   "cell_type": "code",
   "execution_count": 24,
   "metadata": {},
   "outputs": [
    {
     "name": "stdout",
     "output_type": "stream",
     "text": [
      "<class 'str'>\n"
     ]
    }
   ],
   "source": [
    "#Advantage\n",
    "\n",
    "a = \"10\"\n",
    "print(type(a))\n",
    "#dynamic typing\n",
    "\n",
    "#int a = 10;"
   ]
  },
  {
   "cell_type": "code",
   "execution_count": null,
   "metadata": {},
   "outputs": [],
   "source": [
    "#Create two variables a,b\n",
    "#10 b 100\n",
    "#add it and print \n",
    "\n"
   ]
  },
  {
   "cell_type": "code",
   "execution_count": null,
   "metadata": {},
   "outputs": [],
   "source": [
    "#type \n",
    "\n",
    "#type function is useful for identifying data type or data structure \n"
   ]
  },
  {
   "cell_type": "code",
   "execution_count": 27,
   "metadata": {},
   "outputs": [
    {
     "name": "stdout",
     "output_type": "stream",
     "text": [
      "hello*welcome0hi2"
     ]
    }
   ],
   "source": [
    "#print function\n",
    "\n",
    "print(\"hello\", end=\"*\")\n",
    "print(\"welcome\", end=\"0\")\n",
    "print(\"hi\",end=\"2\")"
   ]
  },
  {
   "cell_type": "code",
   "execution_count": 29,
   "metadata": {},
   "outputs": [
    {
     "name": "stdout",
     "output_type": "stream",
     "text": [
      "hello\n",
      "welcome\n",
      "hi\n",
      "hello\n",
      "welcome\n",
      "hi\n"
     ]
    }
   ],
   "source": [
    "print(\"hello\")\n",
    "print(\"welcome\")\n",
    "print(\"hi\")\n",
    "\n",
    "print(\"hello\",end=\"\\n\")\n",
    "print(\"welcome\", end=\"\\n\")\n",
    "print(\"hi\",end=\"\\n\")"
   ]
  },
  {
   "cell_type": "code",
   "execution_count": 31,
   "metadata": {},
   "outputs": [
    {
     "name": "stdout",
     "output_type": "stream",
     "text": [
      "1#2#3#4#5\n"
     ]
    }
   ],
   "source": [
    "#sep\n",
    "\n",
    "print(1,2,3,4,5, sep = \"#\")"
   ]
  },
  {
   "cell_type": "code",
   "execution_count": 33,
   "metadata": {},
   "outputs": [
    {
     "name": "stdout",
     "output_type": "stream",
     "text": [
      "10$20$30%"
     ]
    }
   ],
   "source": [
    "a = 10\n",
    "b = 20\n",
    "c = 30\n",
    "\n",
    "print(a,b,c,end=\"%\",sep=\"$\")"
   ]
  },
  {
   "cell_type": "code",
   "execution_count": 32,
   "metadata": {},
   "outputs": [
    {
     "name": "stdout",
     "output_type": "stream",
     "text": [
      "1#2#3#4#5*"
     ]
    }
   ],
   "source": [
    "print(1,2,3,4,5, sep = \"#\",end=\"*\")"
   ]
  },
  {
   "cell_type": "code",
   "execution_count": 35,
   "metadata": {},
   "outputs": [
    {
     "name": "stdout",
     "output_type": "stream",
     "text": [
      "6\n"
     ]
    },
    {
     "ename": "TypeError",
     "evalue": "object of type 'int' has no len()",
     "output_type": "error",
     "traceback": [
      "\u001b[1;31m---------------------------------------------------------------------------\u001b[0m",
      "\u001b[1;31mTypeError\u001b[0m                                 Traceback (most recent call last)",
      "\u001b[1;32m<ipython-input-35-f68ff50b57b5>\u001b[0m in \u001b[0;36m<module>\u001b[1;34m\u001b[0m\n\u001b[0;32m      8\u001b[0m \u001b[1;33m\u001b[0m\u001b[0m\n\u001b[0;32m      9\u001b[0m \u001b[0ma\u001b[0m \u001b[1;33m=\u001b[0m\u001b[1;36m10\u001b[0m\u001b[1;33m\u001b[0m\u001b[1;33m\u001b[0m\u001b[0m\n\u001b[1;32m---> 10\u001b[1;33m \u001b[0mprint\u001b[0m\u001b[1;33m(\u001b[0m\u001b[0mlen\u001b[0m\u001b[1;33m(\u001b[0m\u001b[0ma\u001b[0m\u001b[1;33m)\u001b[0m\u001b[1;33m)\u001b[0m\u001b[1;33m\u001b[0m\u001b[1;33m\u001b[0m\u001b[0m\n\u001b[0m",
      "\u001b[1;31mTypeError\u001b[0m: object of type 'int' has no len()"
     ]
    }
   ],
   "source": [
    "#len\n",
    "\n",
    "#For calculating length of string or data struct\n",
    "\n",
    "a = \"python\"\n",
    "\n",
    "print(len(a))\n",
    "\n",
    "a =10\n",
    "print(len(a))"
   ]
  },
  {
   "cell_type": "code",
   "execution_count": 38,
   "metadata": {},
   "outputs": [
    {
     "name": "stdout",
     "output_type": "stream",
     "text": [
      "30\n",
      "<class 'int'>\n"
     ]
    }
   ],
   "source": [
    "#comments\n",
    "\n",
    "#single line comment\n",
    "\n",
    "#multi line comment #doc string\n",
    "\n",
    "\n",
    "a = 10\n",
    "\n",
    "b = 20\n",
    "\n",
    "'''\n",
    "print(a)\n",
    "\n",
    "print(b)\n",
    "\n",
    "'''\n",
    "print(a+b)\n",
    "\n",
    "print(type(a+b))"
   ]
  },
  {
   "cell_type": "code",
   "execution_count": 40,
   "metadata": {},
   "outputs": [
    {
     "name": "stdout",
     "output_type": "stream",
     "text": [
      "<class 'int'>\n"
     ]
    }
   ],
   "source": [
    "a = 10\n",
    "\n",
    "b = 20\n",
    "\n",
    "#addition of two values\n",
    "#print(a+b)\n",
    "\n",
    "#finding data type\n",
    "print(type(a+b))"
   ]
  },
  {
   "cell_type": "code",
   "execution_count": null,
   "metadata": {},
   "outputs": [],
   "source": [
    "#better understanding of the code\n",
    "#debugging\n",
    "#for removing from execution"
   ]
  },
  {
   "cell_type": "code",
   "execution_count": 2,
   "metadata": {},
   "outputs": [
    {
     "name": "stdout",
     "output_type": "stream",
     "text": [
      "153.86\n"
     ]
    }
   ],
   "source": [
    "#write a program to calculate area of circle with radius 7\n",
    "\n",
    "radius = 7\n",
    "pi = 3.14\n",
    "\n",
    "Area = pi * radius * radius\n",
    "\n",
    "print(Area)"
   ]
  },
  {
   "cell_type": "code",
   "execution_count": 6,
   "metadata": {},
   "outputs": [
    {
     "name": "stdout",
     "output_type": "stream",
     "text": [
      "153.86\n",
      "The Area of circle is  153.86\n",
      "The Area of circle is 153.86\n",
      "The Area of circle with radius 7 and pi 3.14 is 153.86\n"
     ]
    }
   ],
   "source": [
    "#format\n",
    "\n",
    "#write a program to calculate area of circle with radius 7\n",
    "\n",
    "radius = 7\n",
    "pi = 3.14\n",
    "\n",
    "Area = pi * radius * radius\n",
    "\n",
    "print(Area)\n",
    "\n",
    "print(\"The Area of circle is \",Area)\n",
    "\n",
    "#print(\"The Area of circle is \" + str(Area))\n",
    "\n",
    "\n",
    "print(\"The Area of circle with radius {} and pi {} is {}\".format(radius, pi, Area))\n"
   ]
  },
  {
   "cell_type": "code",
   "execution_count": 9,
   "metadata": {},
   "outputs": [
    {
     "name": "stdout",
     "output_type": "stream",
     "text": [
      "12\n",
      "<class 'int'>\n",
      "12.0\n",
      "<class 'float'>\n"
     ]
    }
   ],
   "source": [
    "#int float bool str  ===> inbuilt functions\n",
    "\n",
    "#int to float\n",
    "\n",
    "a = 12\n",
    "\n",
    "print(a)\n",
    "print(type(a))\n",
    "\n",
    "b = float(a)\n",
    "\n",
    "print(b)\n",
    "print(type(b))"
   ]
  },
  {
   "cell_type": "code",
   "execution_count": 10,
   "metadata": {},
   "outputs": [
    {
     "name": "stdout",
     "output_type": "stream",
     "text": [
      "12.99\n",
      "<class 'float'>\n",
      "True\n",
      "<class 'bool'>\n"
     ]
    }
   ],
   "source": [
    "#float to bool\n",
    "\n",
    "a = 12.99\n",
    "\n",
    "print(a)\n",
    "print(type(a))\n",
    "\n",
    "b = bool(a) #True False\n",
    "\n",
    "print(b)\n",
    "print(type(b))"
   ]
  },
  {
   "cell_type": "code",
   "execution_count": 11,
   "metadata": {},
   "outputs": [
    {
     "name": "stdout",
     "output_type": "stream",
     "text": [
      "12\n",
      "<class 'int'>\n",
      "12\n",
      "<class 'str'>\n",
      "12.99\n",
      "<class 'float'>\n",
      "12.99\n",
      "<class 'str'>\n",
      "False\n",
      "<class 'bool'>\n",
      "False\n",
      "<class 'str'>\n"
     ]
    }
   ],
   "source": [
    "#int to string \n",
    "#float to string\n",
    "#bool to string\n",
    "\n",
    "\n",
    "a = 12\n",
    "\n",
    "print(a)\n",
    "print(type(a))\n",
    "\n",
    "b = str(a) \n",
    "\n",
    "print(b)\n",
    "print(type(b))\n",
    "\n",
    "\n",
    "a = 12.99\n",
    "\n",
    "print(a)\n",
    "print(type(a))\n",
    "\n",
    "b = str(a) \n",
    "\n",
    "print(b)\n",
    "print(type(b))\n",
    "\n",
    "\n",
    "a = False\n",
    "\n",
    "print(a)\n",
    "print(type(a))\n",
    "\n",
    "b = str(a) \n",
    "\n",
    "print(b)\n",
    "print(type(b))"
   ]
  },
  {
   "cell_type": "code",
   "execution_count": 12,
   "metadata": {},
   "outputs": [
    {
     "ename": "ValueError",
     "evalue": "invalid literal for int() with base 10: 'python'",
     "output_type": "error",
     "traceback": [
      "\u001b[1;31m---------------------------------------------------------------------------\u001b[0m",
      "\u001b[1;31mValueError\u001b[0m                                Traceback (most recent call last)",
      "\u001b[1;32m<ipython-input-12-f4836b033a19>\u001b[0m in \u001b[0;36m<module>\u001b[1;34m\u001b[0m\n\u001b[0;32m      5\u001b[0m \u001b[0ma\u001b[0m \u001b[1;33m=\u001b[0m \u001b[1;34m\"python\"\u001b[0m\u001b[1;33m\u001b[0m\u001b[1;33m\u001b[0m\u001b[0m\n\u001b[0;32m      6\u001b[0m \u001b[1;33m\u001b[0m\u001b[0m\n\u001b[1;32m----> 7\u001b[1;33m \u001b[0mb\u001b[0m \u001b[1;33m=\u001b[0m \u001b[0mint\u001b[0m\u001b[1;33m(\u001b[0m\u001b[0ma\u001b[0m\u001b[1;33m)\u001b[0m\u001b[1;33m\u001b[0m\u001b[1;33m\u001b[0m\u001b[0m\n\u001b[0m\u001b[0;32m      8\u001b[0m \u001b[1;33m\u001b[0m\u001b[0m\n\u001b[0;32m      9\u001b[0m \u001b[0mprint\u001b[0m\u001b[1;33m(\u001b[0m\u001b[0mb\u001b[0m\u001b[1;33m)\u001b[0m\u001b[1;33m\u001b[0m\u001b[1;33m\u001b[0m\u001b[0m\n",
      "\u001b[1;31mValueError\u001b[0m: invalid literal for int() with base 10: 'python'"
     ]
    }
   ],
   "source": [
    "#Global Data type: String\n",
    "\n",
    "#Scenario\n",
    "\n",
    "a = \"python\"\n",
    "\n",
    "b = int(a)\n",
    "\n",
    "print(b)\n"
   ]
  },
  {
   "cell_type": "code",
   "execution_count": 13,
   "metadata": {},
   "outputs": [
    {
     "name": "stdout",
     "output_type": "stream",
     "text": [
      "10\n"
     ]
    }
   ],
   "source": [
    "a = \"10\"\n",
    "\n",
    "b = int(a)\n",
    "\n",
    "print(b)"
   ]
  },
  {
   "cell_type": "code",
   "execution_count": 14,
   "metadata": {},
   "outputs": [
    {
     "ename": "ValueError",
     "evalue": "could not convert string to float: 'python'",
     "output_type": "error",
     "traceback": [
      "\u001b[1;31m---------------------------------------------------------------------------\u001b[0m",
      "\u001b[1;31mValueError\u001b[0m                                Traceback (most recent call last)",
      "\u001b[1;32m<ipython-input-14-28e37c22e53e>\u001b[0m in \u001b[0;36m<module>\u001b[1;34m\u001b[0m\n\u001b[0;32m      1\u001b[0m \u001b[0ma\u001b[0m \u001b[1;33m=\u001b[0m \u001b[1;34m\"python\"\u001b[0m\u001b[1;33m\u001b[0m\u001b[1;33m\u001b[0m\u001b[0m\n\u001b[0;32m      2\u001b[0m \u001b[1;33m\u001b[0m\u001b[0m\n\u001b[1;32m----> 3\u001b[1;33m \u001b[0mb\u001b[0m \u001b[1;33m=\u001b[0m \u001b[0mfloat\u001b[0m\u001b[1;33m(\u001b[0m\u001b[0ma\u001b[0m\u001b[1;33m)\u001b[0m\u001b[1;33m\u001b[0m\u001b[1;33m\u001b[0m\u001b[0m\n\u001b[0m\u001b[0;32m      4\u001b[0m \u001b[1;33m\u001b[0m\u001b[0m\n\u001b[0;32m      5\u001b[0m \u001b[0mprint\u001b[0m\u001b[1;33m(\u001b[0m\u001b[0mb\u001b[0m\u001b[1;33m)\u001b[0m\u001b[1;33m\u001b[0m\u001b[1;33m\u001b[0m\u001b[0m\n",
      "\u001b[1;31mValueError\u001b[0m: could not convert string to float: 'python'"
     ]
    }
   ],
   "source": [
    "a = \"python\"\n",
    "\n",
    "b = float(a)\n",
    "\n",
    "print(b)"
   ]
  },
  {
   "cell_type": "code",
   "execution_count": 18,
   "metadata": {},
   "outputs": [
    {
     "name": "stdout",
     "output_type": "stream",
     "text": [
      "10\n",
      "10\n",
      "<class 'str'>\n"
     ]
    }
   ],
   "source": [
    "#input functions:\n",
    "\n",
    "#input ==> inbuilt function to collect input from user (default: string)\n",
    "\n",
    "\n",
    "a = input() #String is default input data type\n",
    "\n",
    "print(a)\n",
    "print(type(a))\n"
   ]
  },
  {
   "cell_type": "code",
   "execution_count": 19,
   "metadata": {},
   "outputs": [
    {
     "name": "stdout",
     "output_type": "stream",
     "text": [
      "please enter one value: 10\n",
      "10\n",
      "<class 'str'>\n"
     ]
    }
   ],
   "source": [
    "\n",
    "a = input(\"please enter one value: \")\n",
    "\n",
    "print(a)\n",
    "print(type(a))\n"
   ]
  },
  {
   "cell_type": "code",
   "execution_count": 24,
   "metadata": {},
   "outputs": [
    {
     "name": "stdout",
     "output_type": "stream",
     "text": [
      "please enter one integer: python\n"
     ]
    },
    {
     "ename": "ValueError",
     "evalue": "invalid literal for int() with base 10: 'python'",
     "output_type": "error",
     "traceback": [
      "\u001b[1;31m---------------------------------------------------------------------------\u001b[0m",
      "\u001b[1;31mValueError\u001b[0m                                Traceback (most recent call last)",
      "\u001b[1;32m<ipython-input-24-4d88408954d1>\u001b[0m in \u001b[0;36m<module>\u001b[1;34m\u001b[0m\n\u001b[0;32m      1\u001b[0m \u001b[1;31m#How to collect int/float/bool/str\u001b[0m\u001b[1;33m\u001b[0m\u001b[1;33m\u001b[0m\u001b[1;33m\u001b[0m\u001b[0m\n\u001b[0;32m      2\u001b[0m \u001b[1;33m\u001b[0m\u001b[0m\n\u001b[1;32m----> 3\u001b[1;33m \u001b[0ma\u001b[0m \u001b[1;33m=\u001b[0m \u001b[0mint\u001b[0m\u001b[1;33m(\u001b[0m\u001b[0minput\u001b[0m\u001b[1;33m(\u001b[0m\u001b[1;34m\"please enter one integer: \"\u001b[0m\u001b[1;33m)\u001b[0m\u001b[1;33m)\u001b[0m\u001b[1;33m\u001b[0m\u001b[1;33m\u001b[0m\u001b[0m\n\u001b[0m\u001b[0;32m      4\u001b[0m \u001b[1;33m\u001b[0m\u001b[0m\n\u001b[0;32m      5\u001b[0m \u001b[0mprint\u001b[0m\u001b[1;33m(\u001b[0m\u001b[0ma\u001b[0m\u001b[1;33m)\u001b[0m\u001b[1;33m\u001b[0m\u001b[1;33m\u001b[0m\u001b[0m\n",
      "\u001b[1;31mValueError\u001b[0m: invalid literal for int() with base 10: 'python'"
     ]
    }
   ],
   "source": [
    "#How to collect int/float/bool/str\n",
    "\n",
    "a = int(input(\"please enter one integer: \")) #it will collect only integers\n",
    "#float(input()) ==> it will collect only float\n",
    "#bool (input()) ==> it will collect only bool\n",
    "\n",
    "\n",
    "print(a)\n",
    "print(type(a))\n"
   ]
  },
  {
   "cell_type": "code",
   "execution_count": 26,
   "metadata": {},
   "outputs": [
    {
     "name": "stdout",
     "output_type": "stream",
     "text": [
      "please enter a floating value: 7.8\n",
      "60.839999999999996\n",
      "60\n"
     ]
    }
   ],
   "source": [
    "#area of square\n",
    "\n",
    "side = float(input(\"please enter a floating value: \"))\n",
    "\n",
    "area = side * side\n",
    "\n",
    "print(area)\n",
    "\n",
    "#Output should be in integer\n",
    "\n",
    "area = int(area)\n",
    "\n",
    "print(area)"
   ]
  }
 ],
 "metadata": {
  "kernelspec": {
   "display_name": "Python 3",
   "language": "python",
   "name": "python3"
  },
  "language_info": {
   "codemirror_mode": {
    "name": "ipython",
    "version": 3
   },
   "file_extension": ".py",
   "mimetype": "text/x-python",
   "name": "python",
   "nbconvert_exporter": "python",
   "pygments_lexer": "ipython3",
   "version": "3.7.6"
  }
 },
 "nbformat": 4,
 "nbformat_minor": 4
}
