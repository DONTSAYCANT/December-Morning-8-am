{
 "cells": [
  {
   "cell_type": "code",
   "execution_count": null,
   "metadata": {},
   "outputs": [],
   "source": [
    "#Timing : 8 am to 9 am IST\n",
    "\n",
    "#Python\n",
    "#\n",
    "Pre requi:\n",
    "    \n",
    "#IDLE / Pycharm / Jupyter:\n",
    "\n",
    "#IDE ==> int dev environment\n",
    "#https://www.python.org/downloads/\n",
    "\n",
    "\n",
    "#Hackerrank / Hackerearth / Leetcode /\n",
    "#Online coding platform\n",
    "#compet\n",
    "\n",
    "#https://www.hackerrank.com/\n",
    "#signup\n",
    "#signin\n",
    "#go to python track\n",
    "#read about some problems\n",
    "\n",
    "#minimum 300 to 400 points python\n",
    "#regex 250 points\n",
    "\n",
    "\n",
    "#Github\n",
    "\n",
    "#https://github.com/\n",
    "#signup\n",
    "#signin\n",
    "#Create a repo\n",
    "#upload your assignments\n"
   ]
  },
  {
   "cell_type": "code",
   "execution_count": null,
   "metadata": {},
   "outputs": [],
   "source": [
    "#Topic discussion\n",
    "\n",
    "#Class\n",
    "\n",
    "#20 % 80 % coding\n",
    "#minmium 5 tasks \n",
    "#50 -days to 60 days\n",
    "\n",
    "#Basic level: 20-25\n",
    "#medium level: 15 - 20 days\n",
    "#advanced :15 - 20day\n",
    "\n",
    "#3-5 project\n",
    "#3 test ==> (50 marks : 35 marks)\n",
    "#seminars/Topic discussion\n",
    "\n",
    "\n",
    "#Hackerrank\n",
    "#350 - 400 python\n",
    "#250 regex\n",
    "\n",
    "#Interview questions"
   ]
  },
  {
   "cell_type": "code",
   "execution_count": null,
   "metadata": {},
   "outputs": [],
   "source": [
    "\n",
    "#Beginner friendly\n",
    "#easy readable\n",
    "#Community \n",
    "#Simple ==> development time is less\n",
    "#Rich library\n",
    "\n",
    "#open source\n",
    "\n",
    "\n",
    "#cron job or periodic build\n",
    "#set of commands\n",
    "\n",
    "#Programming ?\n",
    "\n",
    "\n",
    "#Login to the system\n",
    "#Go to specfic directory\n",
    "#Execute the script\n",
    "#send output to specific file or log\n",
    "\n",
    "\n",
    "#Python ?\n",
    "\n",
    "#Beginner friendly\n",
    "#Syntax simple "
   ]
  },
  {
   "cell_type": "code",
   "execution_count": null,
   "metadata": {},
   "outputs": [],
   "source": [
    "#;\n",
    "#{\n",
    "#}\n",
    "#main function\n",
    "#\n",
    "\n",
    "#web developement ==> Flask/Django\n",
    "#Testing ==> python \n",
    "#Datascience ==> python R\n",
    "#DEvops ==> python\n",
    "#"
   ]
  },
  {
   "cell_type": "code",
   "execution_count": null,
   "metadata": {},
   "outputs": [],
   "source": [
    "#compiler ?  Interpreter ?\n",
    "\n",
    "#Python \n",
    "\n",
    "#Interpreted\n",
    "#OOp language\n",
    "\n",
    "\n",
    "#High level language\n",
    "#\n",
    "#Machine friendly but not user friendly \n",
    "#Machine understandable form ==> ascii\n",
    "\n",
    "#a\n",
    "#A\n",
    "#{\n",
    "#%\n",
    "#}\n",
    "\n",
    "#4 ==> 100 \n",
    "\n",
    "#Ascii ==> conversion of normal value (a, A , % , 10) ==> an integer"
   ]
  },
  {
   "cell_type": "code",
   "execution_count": null,
   "metadata": {},
   "outputs": [],
   "source": [
    "#Any pgm language:\n",
    "\n",
    "\n",
    "#variable\n",
    "#Data type\n",
    "#Data structure\n",
    "#Operator\n",
    "#function\n"
   ]
  },
  {
   "cell_type": "code",
   "execution_count": null,
   "metadata": {},
   "outputs": [],
   "source": [
    "#variable ?\n",
    "\n",
    "\n",
    "#reserved memory\n",
    "#Storing values\n",
    "\n",
    "#Rules availble for variable creation"
   ]
  },
  {
   "cell_type": "code",
   "execution_count": null,
   "metadata": {},
   "outputs": [],
   "source": [
    "a = 10\n",
    "b = 20\n",
    "print(a+b)"
   ]
  },
  {
   "cell_type": "code",
   "execution_count": null,
   "metadata": {},
   "outputs": [],
   "source": [
    "#Variable contains ==> alphabets,number,_ (a-zA-Z0-9_)\n",
    "#It should start with alphabet or _ (it should not start with number)\n",
    "#keywords are reserved words cannot be used as variable\n",
    "#you cannpt user space\n",
    "#it's case sensitive\n"
   ]
  },
  {
   "cell_type": "code",
   "execution_count": null,
   "metadata": {},
   "outputs": [],
   "source": [
    "abhfkfk78999 = 10\n",
    "aA10 = 20 "
   ]
  },
  {
   "cell_type": "code",
   "execution_count": null,
   "metadata": {},
   "outputs": [],
   "source": [
    "var10 = \"python\"\n",
    "#10var = python"
   ]
  },
  {
   "cell_type": "code",
   "execution_count": null,
   "metadata": {},
   "outputs": [],
   "source": [
    "user_input1 = 10"
   ]
  },
  {
   "cell_type": "code",
   "execution_count": null,
   "metadata": {},
   "outputs": [],
   "source": [
    "a = 10\n",
    "A = 10"
   ]
  },
  {
   "cell_type": "code",
   "execution_count": null,
   "metadata": {},
   "outputs": [],
   "source": [
    "user_input = 10\n",
    "user_Input = 20"
   ]
  },
  {
   "cell_type": "code",
   "execution_count": null,
   "metadata": {},
   "outputs": [],
   "source": [
    "#variable and variable creation rules (example pgms)\n",
    "\n",
    "\n",
    "\n",
    "#keywords  (10 keywords)\n",
    "\n",
    "#in and or not import from yield\n",
    "\n",
    "#Inbuilt functions\n",
    "\n",
    "#pre defined functions eg. print\n",
    "\n",
    "#Data type ==> int, float, boolean, string, complex\n",
    "\n",
    "#int alphabets /alpha numeric \n",
    "\n",
    "#Data structure\n",
    "\n",
    "#organising the data ...  list sets tuples dictionary \n",
    "\n",
    "#Operator ==> \n",
    "\n",
    "#arithmetic operators + - * / // ** %\n",
    "#comparison operator < <= > >= == !=\n",
    "#assignment perator =\n",
    "#Logical operator and or not\n",
    "#Membership operator in , not in\n",
    "\n",
    "\n",
    "#function\n",
    "\n",
    "#Block of code"
   ]
  },
  {
   "cell_type": "code",
   "execution_count": null,
   "metadata": {},
   "outputs": [],
   "source": [
    "x = 10"
   ]
  },
  {
   "cell_type": "code",
   "execution_count": null,
   "metadata": {},
   "outputs": [],
   "source": [
    "#variable creation:\n",
    "\n",
    "a1 = \"python\"\n",
    "\n",
    "var1 = 10\n",
    "\n",
    "#Give useful name to variables\n",
    "\n",
    "#Rules for creating variables\n",
    "\n",
    "#Variable contains ==> alphabets,number,_ (a-zA-Z0-9_)\n",
    "#It should start with alphabet or _ (it should not start with number)\n",
    "#keywords are reserved words cannot be used as variable\n",
    "#you cannpt user space\n",
    "#it's case sensitive\n",
    "\n"
   ]
  },
  {
   "cell_type": "code",
   "execution_count": 1,
   "metadata": {},
   "outputs": [
    {
     "name": "stdout",
     "output_type": "stream",
     "text": [
      "14\n",
      "6\n",
      "40\n",
      "2.5\n",
      "2\n",
      "10000\n",
      "2\n"
     ]
    }
   ],
   "source": [
    "#arithmetic operators + - * / // ** %\n",
    "\n",
    "\n",
    "a = 10\n",
    "b = 4\n",
    "\n",
    "#addition\n",
    "print(a+b) #14\n",
    "\n",
    "#subtraction\n",
    "print(a-b) #6\n",
    "\n",
    "#Multiplication\n",
    "print(a*b) #40\n",
    "\n",
    "#Divison\n",
    "print(a/b) #2.5\n",
    "\n",
    "#Modulus\n",
    "print(a%b) #2\n",
    "\n",
    "#Power operation\n",
    "print(a**b) #10000\n",
    "\n",
    "#Floor divison\n",
    "print(a//b) #"
   ]
  },
  {
   "cell_type": "code",
   "execution_count": 2,
   "metadata": {},
   "outputs": [
    {
     "name": "stdout",
     "output_type": "stream",
     "text": [
      "2\n",
      "0\n",
      "2\n",
      "2\n",
      "10\n",
      "4\n"
     ]
    }
   ],
   "source": [
    "#Modulus\n",
    "\n",
    "a = 10\n",
    "b = 4\n",
    "\n",
    "#Modulus\n",
    "print(a%b) #2\n",
    "#remiainder identity\n",
    "\n",
    "print(12 % 3) #0\n",
    "\n",
    "print(12 % 5) #2\n",
    "\n",
    "print(100 % 7) #2\n",
    "\n",
    "print(150 % 14) #10\n",
    "\n",
    "print(20 % 8) #4\n",
    "\n"
   ]
  },
  {
   "cell_type": "code",
   "execution_count": 3,
   "metadata": {},
   "outputs": [
    {
     "name": "stdout",
     "output_type": "stream",
     "text": [
      "1000\n",
      "16\n",
      "100\n",
      "125\n",
      "64\n"
     ]
    }
   ],
   "source": [
    "#Power operation\n",
    "\n",
    "print(10 ** 3) #10 * 10 * 10\n",
    "\n",
    "\n",
    "print(2 ** 4) #2 * 2 * 2 * 2\n",
    "\n",
    "print( 10 ** 2)\n",
    "\n",
    "print(5 ** 3) #5*5*5\n",
    "\n",
    "print(8 ** 2)"
   ]
  },
  {
   "cell_type": "code",
   "execution_count": null,
   "metadata": {},
   "outputs": [],
   "source": [
    "#Floor divison ==> integer output \n",
    "\n",
    "print(5 // 2) #2\n",
    "\n",
    "#Normal div\n",
    "#plot the value in line sacle\n",
    "#Idenify nearest small integer\n",
    "\n",
    "#5/2 ===> 2.5\n",
    "#-5 -4 -3 -2 -1 0 1 2 3 4 5\n",
    "\n",
    "print(7 // 3) #2 \n",
    "\n",
    "print(10 // 3) #3\n",
    "\n",
    "print(10 // 7) #1\n",
    "\n",
    "print(-5 // 2) #-3\n",
    "\n",
    "print(-7 // 3) # -3\n",
    "\n",
    "print(-10 // 3) #-4\n",
    "\n",
    "print(-10 // 7) #-2"
   ]
  },
  {
   "cell_type": "code",
   "execution_count": null,
   "metadata": {},
   "outputs": [],
   "source": [
    "#print\n",
    "\n",
    "a = 10\n",
    "b = \"value\"\n",
    "\n",
    "print(\"hello\")\n",
    "\n",
    "print(\"hello world\")\n",
    "\n",
    "print(\"a\")\n",
    "\n",
    "print(a)\n",
    "\n",
    "print(\"b\")\n",
    "\n",
    "print(b)"
   ]
  },
  {
   "cell_type": "code",
   "execution_count": null,
   "metadata": {},
   "outputs": [],
   "source": [
    "#Create two variables a,b\n",
    "#10 b 100\n",
    "#add it and print "
   ]
  },
  {
   "cell_type": "code",
   "execution_count": null,
   "metadata": {},
   "outputs": [],
   "source": [
    "#type \n",
    "\n"
   ]
  },
  {
   "cell_type": "code",
   "execution_count": null,
   "metadata": {},
   "outputs": [],
   "source": [
    "#len\n",
    "\n",
    "\n"
   ]
  },
  {
   "cell_type": "code",
   "execution_count": null,
   "metadata": {},
   "outputs": [],
   "source": [
    "#comments"
   ]
  }
 ],
 "metadata": {
  "kernelspec": {
   "display_name": "Python 3",
   "language": "python",
   "name": "python3"
  },
  "language_info": {
   "codemirror_mode": {
    "name": "ipython",
    "version": 3
   },
   "file_extension": ".py",
   "mimetype": "text/x-python",
   "name": "python",
   "nbconvert_exporter": "python",
   "pygments_lexer": "ipython3",
   "version": "3.7.6"
  }
 },
 "nbformat": 4,
 "nbformat_minor": 4
}
