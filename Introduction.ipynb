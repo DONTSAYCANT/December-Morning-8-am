{
 "cells": [
  {
   "cell_type": "code",
   "execution_count": null,
   "metadata": {},
   "outputs": [],
   "source": [
    "#Timing : 8 am to 9 am IST\n",
    "\n",
    "#Python\n",
    "#\n",
    "Pre requi:\n",
    "    \n",
    "#IDLE / Pycharm / Jupyter:\n",
    "\n",
    "#IDE ==> int dev environment\n",
    "#https://www.python.org/downloads/\n",
    "\n",
    "\n",
    "#Hackerrank / Hackerearth / Leetcode /\n",
    "#Online coding platform\n",
    "#compet\n",
    "\n",
    "#https://www.hackerrank.com/\n",
    "#signup\n",
    "#signin\n",
    "#go to python track\n",
    "#read about some problems\n",
    "\n",
    "#minimum 300 to 400 points python\n",
    "#regex 250 points\n",
    "\n",
    "\n",
    "#Github\n",
    "\n",
    "#https://github.com/\n",
    "#signup\n",
    "#signin\n",
    "#Create a repo\n",
    "#upload your assignments\n"
   ]
  },
  {
   "cell_type": "code",
   "execution_count": null,
   "metadata": {},
   "outputs": [],
   "source": [
    "#Topic discussion\n",
    "\n",
    "#Class\n",
    "\n",
    "#20 % 80 % coding\n",
    "#minmium 5 tasks \n",
    "#50 -days to 60 days\n",
    "\n",
    "#Basic level: 20-25\n",
    "#medium level: 15 - 20 days\n",
    "#advanced :15 - 20day\n",
    "\n",
    "#3-5 project\n",
    "#3 test ==> (50 marks : 35 marks)\n",
    "#seminars/Topic discussion\n",
    "\n",
    "\n",
    "#Hackerrank\n",
    "#350 - 400 python\n",
    "#250 regex\n",
    "\n",
    "#Interview questions"
   ]
  },
  {
   "cell_type": "code",
   "execution_count": null,
   "metadata": {},
   "outputs": [],
   "source": [
    "\n",
    "#Beginner friendly\n",
    "#easy readable\n",
    "#Community \n",
    "#Simple ==> development time is less\n",
    "#Rich library\n",
    "\n",
    "#open source\n",
    "\n",
    "\n",
    "#cron job or periodic build\n",
    "#set of commands\n",
    "\n",
    "#Programming ?\n",
    "\n",
    "\n",
    "#Login to the system\n",
    "#Go to specfic directory\n",
    "#Execute the script\n",
    "#send output to specific file or log\n",
    "\n",
    "\n",
    "#Python ?\n",
    "\n",
    "#Beginner friendly\n",
    "#Syntax simple "
   ]
  },
  {
   "cell_type": "code",
   "execution_count": null,
   "metadata": {},
   "outputs": [],
   "source": [
    "#;\n",
    "#{\n",
    "#}\n",
    "#main function\n",
    "#\n",
    "\n",
    "#web developement ==> Flask/Django\n",
    "#Testing ==> python \n",
    "#Datascience ==> python R\n",
    "#DEvops ==> python\n",
    "#"
   ]
  },
  {
   "cell_type": "code",
   "execution_count": null,
   "metadata": {},
   "outputs": [],
   "source": [
    "#compiler ?  Interpreter ?\n",
    "\n",
    "#Python \n",
    "\n",
    "#Interpreted\n",
    "#OOp language\n",
    "\n",
    "\n",
    "#High level language\n",
    "#\n",
    "#Machine friendly but not user friendly \n",
    "#Machine understandable form ==> ascii\n",
    "\n",
    "#a\n",
    "#A\n",
    "#{\n",
    "#%\n",
    "#}\n",
    "\n",
    "#4 ==> 100 \n",
    "\n",
    "#Ascii ==> conversion of normal value (a, A , % , 10) ==> an integer"
   ]
  },
  {
   "cell_type": "code",
   "execution_count": null,
   "metadata": {},
   "outputs": [],
   "source": [
    "#Any pgm language:\n",
    "\n",
    "\n",
    "#variable\n",
    "#Data type\n",
    "#Data structure\n",
    "#Operator\n",
    "#function\n"
   ]
  },
  {
   "cell_type": "code",
   "execution_count": null,
   "metadata": {},
   "outputs": [],
   "source": [
    "#variable ?\n",
    "\n",
    "\n",
    "#reserved memory\n",
    "#Storing values\n",
    "\n",
    "#Rules availble for variable creation"
   ]
  },
  {
   "cell_type": "code",
   "execution_count": null,
   "metadata": {},
   "outputs": [],
   "source": [
    "a = 10\n",
    "b = 20\n",
    "print(a+b)"
   ]
  },
  {
   "cell_type": "code",
   "execution_count": null,
   "metadata": {},
   "outputs": [],
   "source": [
    "#Variable contains ==> alphabets,number,_ (a-zA-Z0-9_)\n",
    "#It should start with alphabet or _ (it should not start with number)\n",
    "#keywords are reserved words cannot be used as variable\n",
    "#you cannpt user space\n",
    "#it's case sensitive\n"
   ]
  },
  {
   "cell_type": "code",
   "execution_count": null,
   "metadata": {},
   "outputs": [],
   "source": [
    "abhfkfk78999 = 10\n",
    "aA10 = 20 "
   ]
  },
  {
   "cell_type": "code",
   "execution_count": null,
   "metadata": {},
   "outputs": [],
   "source": [
    "var10 = \"python\"\n",
    "#10var = python"
   ]
  },
  {
   "cell_type": "code",
   "execution_count": null,
   "metadata": {},
   "outputs": [],
   "source": [
    "user_input1 = 10"
   ]
  },
  {
   "cell_type": "code",
   "execution_count": null,
   "metadata": {},
   "outputs": [],
   "source": [
    "a = 10\n",
    "A = 10"
   ]
  },
  {
   "cell_type": "code",
   "execution_count": null,
   "metadata": {},
   "outputs": [],
   "source": [
    "user_input = 10\n",
    "user_Input = 20"
   ]
  }
 ],
 "metadata": {
  "kernelspec": {
   "display_name": "Python 3",
   "language": "python",
   "name": "python3"
  },
  "language_info": {
   "codemirror_mode": {
    "name": "ipython",
    "version": 3
   },
   "file_extension": ".py",
   "mimetype": "text/x-python",
   "name": "python",
   "nbconvert_exporter": "python",
   "pygments_lexer": "ipython3",
   "version": "3.7.6"
  }
 },
 "nbformat": 4,
 "nbformat_minor": 4
}
