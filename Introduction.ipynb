{
 "cells": [
  {
   "cell_type": "code",
   "execution_count": null,
   "metadata": {},
   "outputs": [],
   "source": [
    "#Timing : 8 am to 9 am IST\n",
    "\n",
    "#Python\n",
    "#\n",
    "Pre requi:\n",
    "    \n",
    "#IDLE / Pycharm / Jupyter:\n",
    "\n",
    "#IDE ==> int dev environment\n",
    "#https://www.python.org/downloads/\n",
    "\n",
    "\n",
    "#Hackerrank / Hackerearth / Leetcode /\n",
    "#Online coding platform\n",
    "#compet\n",
    "\n",
    "#https://www.hackerrank.com/\n",
    "#signup\n",
    "#signin\n",
    "#go to python track\n",
    "#read about some problems\n",
    "\n",
    "#minimum 300 to 400 points python\n",
    "#regex 250 points\n",
    "\n",
    "\n",
    "#Github\n",
    "\n",
    "#https://github.com/\n",
    "#signup\n",
    "#signin\n",
    "#Create a repo\n",
    "#upload your assignments\n"
   ]
  },
  {
   "cell_type": "code",
   "execution_count": null,
   "metadata": {},
   "outputs": [],
   "source": [
    "#Topic discussion\n",
    "\n",
    "#Class\n",
    "\n",
    "#20 % 80 % coding\n",
    "#minmium 5 tasks \n",
    "#50 -days to 60 days\n",
    "\n",
    "#Basic level: 20-25\n",
    "#medium level: 15 - 20 days\n",
    "#advanced :15 - 20day\n",
    "\n",
    "#3-5 project\n",
    "#3 test ==> (50 marks : 35 marks)\n",
    "#seminars/Topic discussion\n",
    "\n",
    "\n",
    "#Hackerrank\n",
    "#350 - 400 python\n",
    "#250 regex\n",
    "\n",
    "#Interview questions"
   ]
  }
 ],
 "metadata": {
  "kernelspec": {
   "display_name": "Python 3",
   "language": "python",
   "name": "python3"
  },
  "language_info": {
   "codemirror_mode": {
    "name": "ipython",
    "version": 3
   },
   "file_extension": ".py",
   "mimetype": "text/x-python",
   "name": "python",
   "nbconvert_exporter": "python",
   "pygments_lexer": "ipython3",
   "version": "3.7.6"
  }
 },
 "nbformat": 4,
 "nbformat_minor": 4
}
