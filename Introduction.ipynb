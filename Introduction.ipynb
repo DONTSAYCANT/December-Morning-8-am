{
 "cells": [
  {
   "cell_type": "code",
   "execution_count": null,
   "metadata": {},
   "outputs": [],
   "source": [
    "#Timing : 8 am to 9 am IST\n",
    "\n",
    "#Python\n",
    "#\n",
    "Pre requi:\n",
    "    \n",
    "#IDLE / Pycharm / Jupyter:\n",
    "\n",
    "#IDE ==> int dev environment\n",
    "#https://www.python.org/downloads/\n",
    "\n",
    "\n",
    "#Hackerrank / Hackerearth / Leetcode /\n",
    "#Online coding platform\n",
    "#compet\n",
    "\n",
    "#https://www.hackerrank.com/\n",
    "#signup\n",
    "#signin\n",
    "#go to python track\n",
    "#read about some problems\n",
    "\n",
    "#minimum 300 to 400 points python\n",
    "#regex 250 points\n",
    "\n",
    "\n",
    "#Github\n",
    "\n",
    "#https://github.com/\n",
    "#signup\n",
    "#signin\n"
   ]
  }
 ],
 "metadata": {
  "kernelspec": {
   "display_name": "Python 3",
   "language": "python",
   "name": "python3"
  },
  "language_info": {
   "codemirror_mode": {
    "name": "ipython",
    "version": 3
   },
   "file_extension": ".py",
   "mimetype": "text/x-python",
   "name": "python",
   "nbconvert_exporter": "python",
   "pygments_lexer": "ipython3",
   "version": "3.7.6"
  }
 },
 "nbformat": 4,
 "nbformat_minor": 4
}
