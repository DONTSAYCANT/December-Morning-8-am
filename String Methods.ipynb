{
 "cells": [
  {
   "cell_type": "code",
   "execution_count": null,
   "metadata": {},
   "outputs": [],
   "source": [
    "#String ?\n",
    "\n",
    "#https://www.w3schools.com/python/python_ref_string.asp\n"
   ]
  },
  {
   "cell_type": "markdown",
   "metadata": {},
   "source": [
    "## String Methods "
   ]
  },
  {
   "cell_type": "code",
   "execution_count": 2,
   "metadata": {},
   "outputs": [
    {
     "name": "stdout",
     "output_type": "stream",
     "text": [
      "python program\n"
     ]
    }
   ],
   "source": [
    "#Concatenation\n",
    "\n",
    "a = \"python\"\n",
    "b = \"program\"\n",
    "\n",
    "c = a + \" \" + b\n",
    "\n",
    "print(c)\n",
    "\n",
    "#str + str ==>\n",
    "#num + num ==> \n"
   ]
  },
  {
   "cell_type": "code",
   "execution_count": 3,
   "metadata": {},
   "outputs": [
    {
     "name": "stdout",
     "output_type": "stream",
     "text": [
      "6\n"
     ]
    }
   ],
   "source": [
    "#len\n",
    "\n",
    "a = \"python\"\n",
    "\n",
    "print(len(a))"
   ]
  },
  {
   "cell_type": "code",
   "execution_count": 4,
   "metadata": {},
   "outputs": [
    {
     "name": "stdout",
     "output_type": "stream",
     "text": [
      "ABCDPYTHON\n"
     ]
    }
   ],
   "source": [
    "#upper\n",
    "\n",
    "a = \"abcdpython\"\n",
    "\n",
    "print(a.upper())\n"
   ]
  },
  {
   "cell_type": "code",
   "execution_count": 5,
   "metadata": {},
   "outputs": [
    {
     "name": "stdout",
     "output_type": "stream",
     "text": [
      "dbddddhyet\n"
     ]
    }
   ],
   "source": [
    "#lower\n",
    "\n",
    "a = \"DBDDDDHYET\"\n",
    "\n",
    "print(a.lower())\n"
   ]
  },
  {
   "cell_type": "code",
   "execution_count": 9,
   "metadata": {},
   "outputs": [
    {
     "name": "stdout",
     "output_type": "stream",
     "text": [
      "True\n",
      "True\n",
      "True\n"
     ]
    }
   ],
   "source": [
    "#startswith / endswith\n",
    "\n",
    "a = \"python\"\n",
    "b = \"py\"\n",
    "c = \"on\"\n",
    "d = \"my\"\n",
    "e = \"pn\"\n",
    "\n",
    "print(a.startswith(b))\n",
    "print(a.startswith(\"p\"))\n",
    "\n",
    "print(a.endswith(c))"
   ]
  },
  {
   "cell_type": "code",
   "execution_count": 10,
   "metadata": {},
   "outputs": [
    {
     "name": "stdout",
     "output_type": "stream",
     "text": [
      "ABDgggdddJIOBNSJ\n"
     ]
    }
   ],
   "source": [
    "#swapcase\n",
    "\n",
    "a = \"abdGGGDDDjiobnsj\"\n",
    "\n",
    "print(a.swapcase())"
   ]
  },
  {
   "cell_type": "code",
   "execution_count": 11,
   "metadata": {},
   "outputs": [
    {
     "name": "stdout",
     "output_type": "stream",
     "text": [
      "Hello Welcome To Python Programming Class\n"
     ]
    }
   ],
   "source": [
    "#title\n",
    "\n",
    "a = \"hello welcome to python programming class\"\n",
    "\n",
    "print(a.title())"
   ]
  },
  {
   "cell_type": "code",
   "execution_count": 12,
   "metadata": {},
   "outputs": [
    {
     "name": "stdout",
     "output_type": "stream",
     "text": [
      "Hello welcome to python programming class\n"
     ]
    }
   ],
   "source": [
    "#capitalize\n",
    "\n",
    "a = \"hello welcome to python programming class\"\n",
    "\n",
    "print(a.capitalize())"
   ]
  },
  {
   "cell_type": "code",
   "execution_count": 14,
   "metadata": {},
   "outputs": [
    {
     "name": "stdout",
     "output_type": "stream",
     "text": [
      "3\n",
      "0\n"
     ]
    }
   ],
   "source": [
    "#count\n",
    "\n",
    "a = \"pppyyyttthonnnn\"\n",
    "\n",
    "print(a.count(\"p\"))\n",
    "print(a.count(\"z\"))"
   ]
  },
  {
   "cell_type": "code",
   "execution_count": 16,
   "metadata": {},
   "outputs": [
    {
     "name": "stdout",
     "output_type": "stream",
     "text": [
      "cccyyyttthonnnn\n",
      "pppyyyttthotttt\n"
     ]
    }
   ],
   "source": [
    "#replace\n",
    "\n",
    "a = \"pppyyyttthonnnn\"\n",
    "\n",
    "print(a.replace(\"p\", \"c\"))\n",
    "print(a.replace(\"n\", \"t\"))"
   ]
  },
  {
   "cell_type": "code",
   "execution_count": 18,
   "metadata": {},
   "outputs": [
    {
     "name": "stdout",
     "output_type": "stream",
     "text": [
      "4\n"
     ]
    },
    {
     "ename": "ValueError",
     "evalue": "substring not found",
     "output_type": "error",
     "traceback": [
      "\u001b[1;31m---------------------------------------------------------------------------\u001b[0m",
      "\u001b[1;31mValueError\u001b[0m                                Traceback (most recent call last)",
      "\u001b[1;32m<ipython-input-18-84eeb073ab97>\u001b[0m in \u001b[0;36m<module>\u001b[1;34m\u001b[0m\n\u001b[0;32m      4\u001b[0m \u001b[1;33m\u001b[0m\u001b[0m\n\u001b[0;32m      5\u001b[0m \u001b[0mprint\u001b[0m\u001b[1;33m(\u001b[0m\u001b[0ma\u001b[0m\u001b[1;33m.\u001b[0m\u001b[0mindex\u001b[0m\u001b[1;33m(\u001b[0m\u001b[1;34m\"o\"\u001b[0m\u001b[1;33m)\u001b[0m\u001b[1;33m)\u001b[0m\u001b[1;33m\u001b[0m\u001b[1;33m\u001b[0m\u001b[0m\n\u001b[1;32m----> 6\u001b[1;33m \u001b[0mprint\u001b[0m\u001b[1;33m(\u001b[0m\u001b[0ma\u001b[0m\u001b[1;33m.\u001b[0m\u001b[0mindex\u001b[0m\u001b[1;33m(\u001b[0m\u001b[1;34m\"z\"\u001b[0m\u001b[1;33m)\u001b[0m\u001b[1;33m)\u001b[0m\u001b[1;33m\u001b[0m\u001b[1;33m\u001b[0m\u001b[0m\n\u001b[0m",
      "\u001b[1;31mValueError\u001b[0m: substring not found"
     ]
    }
   ],
   "source": [
    "#index\n",
    "\n",
    "a = \"python\"\n",
    "\n",
    "print(a.index(\"o\"))\n",
    "print(a.index(\"z\"))"
   ]
  },
  {
   "cell_type": "code",
   "execution_count": 19,
   "metadata": {},
   "outputs": [
    {
     "name": "stdout",
     "output_type": "stream",
     "text": [
      "4\n",
      "-1\n"
     ]
    }
   ],
   "source": [
    "#find\n",
    "\n",
    "\n",
    "a = \"python\"\n",
    "\n",
    "print(a.find(\"o\"))\n",
    "print(a.find(\"z\"))"
   ]
  },
  {
   "cell_type": "code",
   "execution_count": 20,
   "metadata": {},
   "outputs": [
    {
     "name": "stdout",
     "output_type": "stream",
     "text": [
      "addition of 4 and 3 is 7\n"
     ]
    }
   ],
   "source": [
    "#format\n",
    "\n",
    "\n",
    "a = 4\n",
    "b = 3\n",
    "c = a  + b\n",
    "print(\"addition of {} and {} is {}\".format(a,b,c))"
   ]
  },
  {
   "cell_type": "code",
   "execution_count": 23,
   "metadata": {},
   "outputs": [
    {
     "name": "stdout",
     "output_type": "stream",
     "text": [
      "True\n",
      "False\n"
     ]
    }
   ],
   "source": [
    "#isnumeric / isalpha / isalnum\n",
    "\n",
    "a = \"23\"\n",
    "\n",
    "print(a.isnumeric())\n",
    "\n",
    "a = \"python23\"\n",
    "\n",
    "print(a.isalpha())\n"
   ]
  },
  {
   "cell_type": "code",
   "execution_count": 25,
   "metadata": {},
   "outputs": [
    {
     "name": "stdout",
     "output_type": "stream",
     "text": [
      "['hello', 'guys', 'welcome', 'to', 'python', 'class']\n",
      "['hello guys ', ' to python class']\n"
     ]
    }
   ],
   "source": [
    "#split\n",
    "\n",
    "#input ==> string\n",
    "#output ==> List\n",
    "\n",
    "a = \"hello guys welcome to python class\"\n",
    "\n",
    "b = a.split() #default spcae\n",
    "\n",
    "print(b)\n",
    "\n",
    "a = \"hello guys welcome to python class\"\n",
    "\n",
    "b = a.split(\"welcome\") #default spcae\n",
    "\n",
    "print(b)"
   ]
  },
  {
   "cell_type": "code",
   "execution_count": 27,
   "metadata": {},
   "outputs": [
    {
     "name": "stdout",
     "output_type": "stream",
     "text": [
      "python*is*using*interpreter*in*backend\n"
     ]
    }
   ],
   "source": [
    "#join\n",
    "\n",
    "a = [\"python\", \"is\", \"using\", \"interpreter\",\"in\",\"backend\"]\n",
    "\n",
    "c = \"*\".join(a)\n",
    "\n",
    "print(c)"
   ]
  },
  {
   "cell_type": "code",
   "execution_count": 30,
   "metadata": {},
   "outputs": [
    {
     "name": "stdout",
     "output_type": "stream",
     "text": [
      "python\n",
      "python     \n",
      "        python\n"
     ]
    }
   ],
   "source": [
    "#strip /lstrip/rstrip\n",
    "\n",
    "a = \"        python     \"\n",
    "\n",
    "print(a.strip())\n",
    "print(a.lstrip())\n",
    "print(a.rstrip())"
   ]
  },
  {
   "cell_type": "code",
   "execution_count": 7,
   "metadata": {},
   "outputs": [
    {
     "name": "stdout",
     "output_type": "stream",
     "text": [
      "cpp\n",
      "cpp\n",
      "1\n",
      "p\n"
     ]
    }
   ],
   "source": [
    "#How to calculate middle char\n",
    "\n",
    "string = input()\n",
    "\n",
    "print(string)\n",
    "\n",
    "middle_index = len(string) // 2\n",
    "#middle_index = int(string / 2)\n",
    "\n",
    "print(middle_index)\n",
    "\n",
    "print(string[middle_index])"
   ]
  },
  {
   "cell_type": "code",
   "execution_count": 10,
   "metadata": {},
   "outputs": [
    {
     "name": "stdout",
     "output_type": "stream",
     "text": [
      "please enter string 1wwww 20.0\n",
      "please enter string 2ffff 18.2\n",
      "please enter string 3rrrr 20.9\n",
      "wwww 20.0\n",
      "ffff 18.2\n",
      "rrrr 20.9\n",
      "['wwww', '20.0']\n",
      "['ffff', '18.2']\n",
      "['rrrr', '20.9']\n",
      "20.0\n",
      "18.2\n",
      "20.9\n"
     ]
    }
   ],
   "source": [
    "#Clue for Task3\n",
    "\n",
    "str1 = input(\"please enter string 1\")\n",
    "str2 = input(\"please enter string 2\")\n",
    "str3 = input(\"please enter string 3\")\n",
    "\n",
    "print(str1)\n",
    "print(str2)\n",
    "print(str3)\n",
    "\n",
    "spt1 = str1.split()\n",
    "spt2 = str2.split()\n",
    "spt3 = str3.split()\n",
    "\n",
    "print(spt1)\n",
    "print(spt2)\n",
    "print(spt3)\n",
    "\n",
    "print(spt1[-1])\n",
    "print(spt2[-1])\n",
    "print(spt3[-1])"
   ]
  },
  {
   "cell_type": "code",
   "execution_count": 11,
   "metadata": {},
   "outputs": [
    {
     "name": "stdout",
     "output_type": "stream",
     "text": [
      "97\n"
     ]
    }
   ],
   "source": [
    "#clue for task5\n",
    "a = \"wikipedia\"\n",
    "b = \"python\"\n",
    "\n",
    "char = \"a\"\n",
    "\n",
    "print(ord(char))  #conversion of char to ascii value"
   ]
  }
 ],
 "metadata": {
  "kernelspec": {
   "display_name": "Python 3",
   "language": "python",
   "name": "python3"
  },
  "language_info": {
   "codemirror_mode": {
    "name": "ipython",
    "version": 3
   },
   "file_extension": ".py",
   "mimetype": "text/x-python",
   "name": "python",
   "nbconvert_exporter": "python",
   "pygments_lexer": "ipython3",
   "version": "3.7.6"
  }
 },
 "nbformat": 4,
 "nbformat_minor": 4
}
