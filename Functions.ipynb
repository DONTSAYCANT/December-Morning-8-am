{
 "cells": [
  {
   "cell_type": "code",
   "execution_count": null,
   "metadata": {},
   "outputs": [],
   "source": [
    "#function\n",
    "\n",
    "#1000 \n",
    "\n",
    "#10 lines * 20 times\n",
    "\n",
    "#5 lines * 15 times"
   ]
  },
  {
   "cell_type": "code",
   "execution_count": 6,
   "metadata": {},
   "outputs": [
    {
     "name": "stdout",
     "output_type": "stream",
     "text": [
      "The multiplied output is  200\n",
      "The multiplied output is  128\n",
      "The multiplied output is  357\n",
      "The multiplied output is  627\n"
     ]
    }
   ],
   "source": [
    "a = 10\n",
    "b = 20\n",
    "\n",
    "c = a * b\n",
    "print(\"The multiplied output is \", c)\n",
    "\n",
    "d = 8\n",
    "e = 16\n",
    "\n",
    "f = d * e\n",
    "print(\"The multiplied output is \", f)\n",
    "\n",
    "g = 21\n",
    "h = 17\n",
    "\n",
    "i = g * h\n",
    "print(\"The multiplied output is \", i)\n",
    "\n",
    "l = 19\n",
    "j = 33\n",
    "\n",
    "m = l * j\n",
    "print(\"The multiplied output is \", m)"
   ]
  },
  {
   "cell_type": "code",
   "execution_count": 7,
   "metadata": {},
   "outputs": [
    {
     "name": "stdout",
     "output_type": "stream",
     "text": [
      "The multiplied output is 200\n",
      "The multiplied output is 128\n",
      "The multiplied output is 357\n",
      "The multiplied output is 627\n"
     ]
    }
   ],
   "source": [
    "#Function : USer Def function\n",
    "#Function definition\n",
    "def multiply(a,b):\n",
    "    return \"The multiplied output is \" + str(a*b)\n",
    "\n",
    "#Function call1\n",
    "print(multiply(10,20))\n",
    "print(multiply(8,16))\n",
    "print(multiply(21,17))\n",
    "print(multiply(19,33))"
   ]
  },
  {
   "cell_type": "code",
   "execution_count": null,
   "metadata": {},
   "outputs": [],
   "source": [
    "#Functions:\n",
    "\n",
    "#User defined function \n",
    "#Inbuilt function or built in function"
   ]
  },
  {
   "cell_type": "code",
   "execution_count": null,
   "metadata": {},
   "outputs": [],
   "source": [
    "#Inbuilt functons:\n",
    "\n",
    "#Print\n",
    "#len\n",
    "#input\n",
    "#range\n",
    "#type\n",
    "#max/min/sum\n",
    "#"
   ]
  },
  {
   "cell_type": "code",
   "execution_count": null,
   "metadata": {},
   "outputs": [],
   "source": [
    "#Function : USer Def function\n",
    "#Function definition\n",
    "def multiply(a,b):\n",
    "    return \"The multiplied output is \" + str(a*b)\n",
    "\n",
    "#Function call1\n",
    "print(multiply(10,20))"
   ]
  },
  {
   "cell_type": "code",
   "execution_count": null,
   "metadata": {},
   "outputs": [],
   "source": [
    "#Function definition\n",
    "def multiply(a,b):\n",
    "    return \"The multiplied output is \" + str(a*b)\n",
    "\n",
    "#Function call1\n",
    "print(multiply(10,20))"
   ]
  },
  {
   "cell_type": "code",
   "execution_count": null,
   "metadata": {},
   "outputs": [],
   "source": [
    "\n",
    "#Arguements or parameters\n",
    "#return\n",
    "#function call\n",
    "#Function def\n",
    "\n",
    "#def is a keyword to create User defined function\n"
   ]
  },
  {
   "cell_type": "code",
   "execution_count": 8,
   "metadata": {},
   "outputs": [
    {
     "ename": "NameError",
     "evalue": "name 'multiply1' is not defined",
     "output_type": "error",
     "traceback": [
      "\u001b[1;31m---------------------------------------------------------------------------\u001b[0m",
      "\u001b[1;31mNameError\u001b[0m                                 Traceback (most recent call last)",
      "\u001b[1;32m<ipython-input-8-6c6894ca9f1b>\u001b[0m in \u001b[0;36m<module>\u001b[1;34m\u001b[0m\n\u001b[0;32m      4\u001b[0m \u001b[1;33m\u001b[0m\u001b[0m\n\u001b[0;32m      5\u001b[0m \u001b[1;31m#Function call1\u001b[0m\u001b[1;33m\u001b[0m\u001b[1;33m\u001b[0m\u001b[1;33m\u001b[0m\u001b[0m\n\u001b[1;32m----> 6\u001b[1;33m \u001b[0mprint\u001b[0m\u001b[1;33m(\u001b[0m\u001b[0mmultiply1\u001b[0m\u001b[1;33m(\u001b[0m\u001b[1;36m10\u001b[0m\u001b[1;33m,\u001b[0m\u001b[1;36m20\u001b[0m\u001b[1;33m)\u001b[0m\u001b[1;33m)\u001b[0m\u001b[1;33m\u001b[0m\u001b[1;33m\u001b[0m\u001b[0m\n\u001b[0m",
      "\u001b[1;31mNameError\u001b[0m: name 'multiply1' is not defined"
     ]
    }
   ],
   "source": [
    "#Function definition\n",
    "def multiply(a,b):\n",
    "    return \"The multiplied output is \" + str(a*b)\n",
    "\n",
    "#Function call1\n",
    "print(multiply1(10,20))"
   ]
  },
  {
   "cell_type": "code",
   "execution_count": 11,
   "metadata": {},
   "outputs": [
    {
     "name": "stdout",
     "output_type": "stream",
     "text": [
      "The multiplied output is 200\n",
      "The multiplied output is 242\n"
     ]
    }
   ],
   "source": [
    "#Function definition\n",
    "def multiply(a,b): #a=10 b = 20\n",
    "    c = a * b\n",
    "    return \"The multiplied output is \" + str(c)\n",
    "\n",
    "#Function call1\n",
    "print(multiply(10,20))\n",
    "print(multiply(11,22))"
   ]
  },
  {
   "cell_type": "code",
   "execution_count": null,
   "metadata": {},
   "outputs": [],
   "source": [
    "#return last line of the function defintion to be exectued"
   ]
  },
  {
   "cell_type": "code",
   "execution_count": 12,
   "metadata": {},
   "outputs": [
    {
     "name": "stdout",
     "output_type": "stream",
     "text": [
      "200\n",
      "None\n"
     ]
    }
   ],
   "source": [
    "def multiply(a,b): #a=10 b = 20\n",
    "    c = a * b\n",
    "    print(c)\n",
    "\n",
    "#Function call1\n",
    "print(multiply(10,20))"
   ]
  },
  {
   "cell_type": "code",
   "execution_count": 13,
   "metadata": {},
   "outputs": [
    {
     "ename": "TypeError",
     "evalue": "multiply() takes 2 positional arguments but 3 were given",
     "output_type": "error",
     "traceback": [
      "\u001b[1;31m---------------------------------------------------------------------------\u001b[0m",
      "\u001b[1;31mTypeError\u001b[0m                                 Traceback (most recent call last)",
      "\u001b[1;32m<ipython-input-13-c19406d91914>\u001b[0m in \u001b[0;36m<module>\u001b[1;34m\u001b[0m\n\u001b[0;32m      5\u001b[0m \u001b[1;33m\u001b[0m\u001b[0m\n\u001b[0;32m      6\u001b[0m \u001b[1;31m#Function call1\u001b[0m\u001b[1;33m\u001b[0m\u001b[1;33m\u001b[0m\u001b[1;33m\u001b[0m\u001b[0m\n\u001b[1;32m----> 7\u001b[1;33m \u001b[0mprint\u001b[0m\u001b[1;33m(\u001b[0m\u001b[0mmultiply\u001b[0m\u001b[1;33m(\u001b[0m\u001b[1;36m10\u001b[0m\u001b[1;33m,\u001b[0m\u001b[1;36m20\u001b[0m\u001b[1;33m,\u001b[0m\u001b[1;36m30\u001b[0m\u001b[1;33m)\u001b[0m\u001b[1;33m)\u001b[0m\u001b[1;33m\u001b[0m\u001b[1;33m\u001b[0m\u001b[0m\n\u001b[0m\u001b[0;32m      8\u001b[0m \u001b[0mprint\u001b[0m\u001b[1;33m(\u001b[0m\u001b[0mmultiply\u001b[0m\u001b[1;33m(\u001b[0m\u001b[1;36m11\u001b[0m\u001b[1;33m,\u001b[0m\u001b[1;36m22\u001b[0m\u001b[1;33m)\u001b[0m\u001b[1;33m)\u001b[0m\u001b[1;33m\u001b[0m\u001b[1;33m\u001b[0m\u001b[0m\n",
      "\u001b[1;31mTypeError\u001b[0m: multiply() takes 2 positional arguments but 3 were given"
     ]
    }
   ],
   "source": [
    "#Function definition\n",
    "def multiply(a,b): #a=10 b = 20\n",
    "    c = a * b\n",
    "    return \"The multiplied output is \" + str(c)\n",
    "\n",
    "#Function call1\n",
    "print(multiply(10,20))\n",
    "print(multiply(11,22))"
   ]
  },
  {
   "cell_type": "markdown",
   "metadata": {},
   "source": [
    "## User Def Function Examples"
   ]
  },
  {
   "cell_type": "code",
   "execution_count": 1,
   "metadata": {},
   "outputs": [
    {
     "name": "stdout",
     "output_type": "stream",
     "text": [
      "aaabbbccc\n",
      "adfgdwsgbbf\n",
      "xxxyyyzzz\n"
     ]
    }
   ],
   "source": [
    "#Write function to concatenate three strings\n",
    "\n",
    "\n",
    "def con_string(str1, str2, str3):\n",
    "    return str1 + str2 + str3\n",
    "\n",
    "print(con_string(\"aaa\",\"bbb\",\"ccc\"))\n",
    "print(con_string(\"adfg\",\"dwsg\",\"bbf\"))\n",
    "print(con_string(\"xxx\",\"yyy\",\"zzz\"))"
   ]
  },
  {
   "cell_type": "code",
   "execution_count": 2,
   "metadata": {},
   "outputs": [
    {
     "name": "stdout",
     "output_type": "stream",
     "text": [
      "2905\n",
      "8281\n"
     ]
    }
   ],
   "source": [
    "#Write a function multiply three different floats and return a int\n",
    "\n",
    "\n",
    "def multiply(a, b, c):\n",
    "    return int(a * b * c)\n",
    "\n",
    "print(multiply(10.9, 12.4, 21.5))\n",
    "print(multiply(0.4, 20.7, 1000.2))"
   ]
  },
  {
   "cell_type": "code",
   "execution_count": 8,
   "metadata": {},
   "outputs": [
    {
     "name": "stdout",
     "output_type": "stream",
     "text": [
      "please enter the string: malayalam\n",
      "The string is palindrome\n"
     ]
    }
   ],
   "source": [
    "#Write a function to check a string is palindrom or not\n",
    "\n",
    "def palindrome_check(string):\n",
    "    return string == string[::-1]\n",
    "\n",
    "str_user = input(\"please enter the string: \")\n",
    "\n",
    "if palindrome_check(str_user):\n",
    "    print(\"The string is palindrome\")\n",
    "else:\n",
    "    print(\"The string is not a palindrome\")\n",
    "\n",
    "\n",
    "\n",
    "\n",
    "#print(\"python\" == \"python\"[::-1])\n",
    "#print(\"mom\" == \"mom\"[::-1])"
   ]
  },
  {
   "cell_type": "code",
   "execution_count": 12,
   "metadata": {},
   "outputs": [
    {
     "name": "stdout",
     "output_type": "stream",
     "text": [
      "t\n",
      "pu\n",
      "y\n"
     ]
    }
   ],
   "source": [
    "#Write a function to return middle char of the string\n",
    "\n",
    "def middle_char(string):\n",
    "    if len(string) % 2 == 0:\n",
    "        return string[len(string)//2 - 1] + string[len(string)//2]\n",
    "    else:\n",
    "        return string[len(string)//2]\n",
    "\n",
    "print(middle_char(\"maths\"))\n",
    "print(middle_char(\"computer\"))\n",
    "print(middle_char(\"malayalam\"))"
   ]
  },
  {
   "cell_type": "code",
   "execution_count": 14,
   "metadata": {},
   "outputs": [
    {
     "name": "stdout",
     "output_type": "stream",
     "text": [
      "please enter a string : bbabb\n",
      "vowel middle char\n"
     ]
    }
   ],
   "source": [
    "#write a function to return whether middle character is vowel or not \n",
    "\n",
    "str1 = input(\"please enter a string : \")\n",
    "\n",
    "if middle_char(str1) in \"aeiou\":\n",
    "    print(\"vowel middle char\")\n",
    "else:\n",
    "    print(\"Non vowel middle char\")\n"
   ]
  },
  {
   "cell_type": "code",
   "execution_count": null,
   "metadata": {},
   "outputs": [],
   "source": [
    "#\"aeiou\"\n",
    "\n",
    "#[\"a\", \"e\", \"i\", \"o\", \"u\"]"
   ]
  },
  {
   "cell_type": "markdown",
   "metadata": {},
   "source": [
    "## Inbuilt Functions examples"
   ]
  },
  {
   "cell_type": "code",
   "execution_count": 17,
   "metadata": {},
   "outputs": [
    {
     "name": "stdout",
     "output_type": "stream",
     "text": [
      "13.4\n",
      "13.601470508735444\n",
      "14\n"
     ]
    }
   ],
   "source": [
    "#abs\n",
    "\n",
    "a = 13.4\n",
    "print(abs(a))\n",
    "\n",
    "\n",
    "a = 13 + 4j\n",
    "print(abs(a))\n",
    "\n",
    "a = -14\n",
    "print(abs(a))"
   ]
  },
  {
   "cell_type": "code",
   "execution_count": 25,
   "metadata": {},
   "outputs": [
    {
     "name": "stdout",
     "output_type": "stream",
     "text": [
      "pass mark with + grade\n",
      "pass mark with + grade\n"
     ]
    }
   ],
   "source": [
    "#any\n",
    "\n",
    "#OR gate\n",
    "\n",
    "a = 9\n",
    "if a > 0 or a < 100 or a % 2 == 0 :\n",
    "    print(\"pass mark with + grade\")\n",
    "else:\n",
    "    print(\"Fail mark with - grade\")\n",
    "\n",
    "\n",
    "    \n",
    "if any((a > 0, a < 100, a % 2 == 0)):\n",
    "    print(\"pass mark with + grade\")\n",
    "else:\n",
    "    print(\"Fail mark with - grade\")"
   ]
  },
  {
   "cell_type": "code",
   "execution_count": 26,
   "metadata": {},
   "outputs": [
    {
     "name": "stdout",
     "output_type": "stream",
     "text": [
      "Fail mark with - grade\n",
      "Fail mark with - grade\n"
     ]
    }
   ],
   "source": [
    "#all\n",
    "\n",
    "#AND gate\n",
    "if a > 0 and a < 100 and a % 2 == 0 :\n",
    "    print(\"pass mark with + grade\")\n",
    "else:\n",
    "    print(\"Fail mark with - grade\")\n",
    "    \n",
    "if all((a > 0, a < 100, a % 2 == 0)):\n",
    "    print(\"pass mark with + grade\")\n",
    "else:\n",
    "    print(\"Fail mark with - grade\")"
   ]
  },
  {
   "cell_type": "code",
   "execution_count": 27,
   "metadata": {},
   "outputs": [
    {
     "name": "stdout",
     "output_type": "stream",
     "text": [
      "0b1100100\n",
      "0o144\n",
      "0x64\n"
     ]
    }
   ],
   "source": [
    "#bin/hex/oct\n",
    "\n",
    "\n",
    "a = 100\n",
    "\n",
    "print(bin(a))\n",
    "print(oct(a))\n",
    "print(hex(a))"
   ]
  },
  {
   "cell_type": "code",
   "execution_count": 31,
   "metadata": {},
   "outputs": [
    {
     "name": "stdout",
     "output_type": "stream",
     "text": [
      "122\n",
      "P\n"
     ]
    }
   ],
   "source": [
    "#chr/ord \n",
    "\n",
    "a = \"z\" \n",
    "\n",
    "print(ord(a)) #character to ascii value conversion\n",
    "\n",
    "b = 80\n",
    "\n",
    "print(chr(b)) #Ascii value to char conversion"
   ]
  },
  {
   "cell_type": "code",
   "execution_count": 32,
   "metadata": {},
   "outputs": [
    {
     "name": "stdout",
     "output_type": "stream",
     "text": [
      "{1: 'hello', 2: 'python', 3: 'aaa', 4: 'cricket'}\n"
     ]
    }
   ],
   "source": [
    "#zip\n",
    "\n",
    "Li1 = [1, 2, 3, 4]\n",
    "Li2 = [\"hello\", \"python\", \"aaa\", \"cricket\"]\n",
    "\n",
    "\n",
    "print(dict(zip(Li1, Li2)))"
   ]
  },
  {
   "cell_type": "code",
   "execution_count": 33,
   "metadata": {},
   "outputs": [
    {
     "name": "stdout",
     "output_type": "stream",
     "text": [
      "1730958504880\n"
     ]
    }
   ],
   "source": [
    "#id\n",
    "\n",
    "\n",
    "a = \"python\"\n",
    "\n",
    "print(id(a))\n"
   ]
  },
  {
   "cell_type": "code",
   "execution_count": 34,
   "metadata": {},
   "outputs": [
    {
     "name": "stdout",
     "output_type": "stream",
     "text": [
      "16\n"
     ]
    }
   ],
   "source": [
    "#pow\n",
    "\n",
    "a = 4\n",
    "b = 2\n",
    "\n",
    "print(pow(b, a))"
   ]
  },
  {
   "cell_type": "code",
   "execution_count": 36,
   "metadata": {},
   "outputs": [
    {
     "name": "stdout",
     "output_type": "stream",
     "text": [
      "(7, 1)\n"
     ]
    }
   ],
   "source": [
    "#divmod\n",
    "\n",
    "\n",
    "a = 50\n",
    "b = 7\n",
    "\n",
    "print(divmod(a,b))\n"
   ]
  },
  {
   "cell_type": "code",
   "execution_count": 39,
   "metadata": {},
   "outputs": [
    {
     "name": "stdout",
     "output_type": "stream",
     "text": [
      "['aaa', 'bbb', 'mmmm', 'xxxx', 'zzzz']\n",
      "['zzzz', 'xxxx', 'mmmm', 'bbb', 'aaa']\n"
     ]
    }
   ],
   "source": [
    "#sorted\n",
    "\n",
    "Li1 = [\"aaa\", \"bbb\", \"zzzz\", \"xxxx\", \"mmmm\"]\n",
    "\n",
    "print(sorted(Li1)) #ascending order\n",
    "print(sorted(Li1, reverse=True)) #Descending order"
   ]
  },
  {
   "cell_type": "code",
   "execution_count": 41,
   "metadata": {},
   "outputs": [
    {
     "name": "stdout",
     "output_type": "stream",
     "text": [
      "['mmmm', 'xxxx', 'zzzz', 'bbb', 'aaa']\n"
     ]
    }
   ],
   "source": [
    "#reversed\n",
    "\n",
    "Li1 = [\"aaa\", \"bbb\", \"zzzz\", \"xxxx\", \"mmmm\"]\n",
    "\n",
    "print(list(reversed(Li1)))"
   ]
  },
  {
   "cell_type": "code",
   "execution_count": null,
   "metadata": {},
   "outputs": [],
   "source": [
    "#https://www.w3schools.com/python/python_ref_functions.asp"
   ]
  }
 ],
 "metadata": {
  "kernelspec": {
   "display_name": "Python 3",
   "language": "python",
   "name": "python3"
  },
  "language_info": {
   "codemirror_mode": {
    "name": "ipython",
    "version": 3
   },
   "file_extension": ".py",
   "mimetype": "text/x-python",
   "name": "python",
   "nbconvert_exporter": "python",
   "pygments_lexer": "ipython3",
   "version": "3.7.6"
  }
 },
 "nbformat": 4,
 "nbformat_minor": 4
}
