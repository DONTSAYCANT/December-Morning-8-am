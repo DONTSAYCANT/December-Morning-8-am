{
 "cells": [
  {
   "cell_type": "code",
   "execution_count": null,
   "metadata": {},
   "outputs": [],
   "source": [
    "#function\n",
    "\n",
    "#1000 \n",
    "\n",
    "#10 lines * 20 times\n",
    "\n",
    "#5 lines * 15 times"
   ]
  },
  {
   "cell_type": "code",
   "execution_count": 6,
   "metadata": {},
   "outputs": [
    {
     "name": "stdout",
     "output_type": "stream",
     "text": [
      "The multiplied output is  200\n",
      "The multiplied output is  128\n",
      "The multiplied output is  357\n",
      "The multiplied output is  627\n"
     ]
    }
   ],
   "source": [
    "a = 10\n",
    "b = 20\n",
    "\n",
    "c = a * b\n",
    "print(\"The multiplied output is \", c)\n",
    "\n",
    "d = 8\n",
    "e = 16\n",
    "\n",
    "f = d * e\n",
    "print(\"The multiplied output is \", f)\n",
    "\n",
    "g = 21\n",
    "h = 17\n",
    "\n",
    "i = g * h\n",
    "print(\"The multiplied output is \", i)\n",
    "\n",
    "l = 19\n",
    "j = 33\n",
    "\n",
    "m = l * j\n",
    "print(\"The multiplied output is \", m)"
   ]
  },
  {
   "cell_type": "code",
   "execution_count": 7,
   "metadata": {},
   "outputs": [
    {
     "name": "stdout",
     "output_type": "stream",
     "text": [
      "The multiplied output is 200\n",
      "The multiplied output is 128\n",
      "The multiplied output is 357\n",
      "The multiplied output is 627\n"
     ]
    }
   ],
   "source": [
    "#Function : USer Def function\n",
    "#Function definition\n",
    "def multiply(a,b):\n",
    "    return \"The multiplied output is \" + str(a*b)\n",
    "\n",
    "#Function call1\n",
    "print(multiply(10,20))\n",
    "print(multiply(8,16))\n",
    "print(multiply(21,17))\n",
    "print(multiply(19,33))"
   ]
  },
  {
   "cell_type": "code",
   "execution_count": null,
   "metadata": {},
   "outputs": [],
   "source": [
    "#Functions:\n",
    "\n",
    "#User defined function \n",
    "#Inbuilt function or built in function"
   ]
  },
  {
   "cell_type": "code",
   "execution_count": null,
   "metadata": {},
   "outputs": [],
   "source": [
    "#Inbuilt functons:\n",
    "\n",
    "#Print\n",
    "#len\n",
    "#input\n",
    "#range\n",
    "#type\n",
    "#max/min/sum\n",
    "#"
   ]
  },
  {
   "cell_type": "code",
   "execution_count": null,
   "metadata": {},
   "outputs": [],
   "source": [
    "#Function : USer Def function\n",
    "#Function definition\n",
    "def multiply(a,b):\n",
    "    return \"The multiplied output is \" + str(a*b)\n",
    "\n",
    "#Function call1\n",
    "print(multiply(10,20))"
   ]
  },
  {
   "cell_type": "code",
   "execution_count": null,
   "metadata": {},
   "outputs": [],
   "source": [
    "#Function definition\n",
    "def multiply(a,b):\n",
    "    return \"The multiplied output is \" + str(a*b)\n",
    "\n",
    "#Function call1\n",
    "print(multiply(10,20))"
   ]
  },
  {
   "cell_type": "code",
   "execution_count": null,
   "metadata": {},
   "outputs": [],
   "source": [
    "\n",
    "#Arguements or parameters\n",
    "#return\n",
    "#function call\n",
    "#Function def\n",
    "\n",
    "#def is a keyword to create User defined function\n"
   ]
  },
  {
   "cell_type": "code",
   "execution_count": 8,
   "metadata": {},
   "outputs": [
    {
     "ename": "NameError",
     "evalue": "name 'multiply1' is not defined",
     "output_type": "error",
     "traceback": [
      "\u001b[1;31m---------------------------------------------------------------------------\u001b[0m",
      "\u001b[1;31mNameError\u001b[0m                                 Traceback (most recent call last)",
      "\u001b[1;32m<ipython-input-8-6c6894ca9f1b>\u001b[0m in \u001b[0;36m<module>\u001b[1;34m\u001b[0m\n\u001b[0;32m      4\u001b[0m \u001b[1;33m\u001b[0m\u001b[0m\n\u001b[0;32m      5\u001b[0m \u001b[1;31m#Function call1\u001b[0m\u001b[1;33m\u001b[0m\u001b[1;33m\u001b[0m\u001b[1;33m\u001b[0m\u001b[0m\n\u001b[1;32m----> 6\u001b[1;33m \u001b[0mprint\u001b[0m\u001b[1;33m(\u001b[0m\u001b[0mmultiply1\u001b[0m\u001b[1;33m(\u001b[0m\u001b[1;36m10\u001b[0m\u001b[1;33m,\u001b[0m\u001b[1;36m20\u001b[0m\u001b[1;33m)\u001b[0m\u001b[1;33m)\u001b[0m\u001b[1;33m\u001b[0m\u001b[1;33m\u001b[0m\u001b[0m\n\u001b[0m",
      "\u001b[1;31mNameError\u001b[0m: name 'multiply1' is not defined"
     ]
    }
   ],
   "source": [
    "#Function definition\n",
    "def multiply(a,b):\n",
    "    return \"The multiplied output is \" + str(a*b)\n",
    "\n",
    "#Function call1\n",
    "print(multiply1(10,20))"
   ]
  },
  {
   "cell_type": "code",
   "execution_count": 11,
   "metadata": {},
   "outputs": [
    {
     "name": "stdout",
     "output_type": "stream",
     "text": [
      "The multiplied output is 200\n",
      "The multiplied output is 242\n"
     ]
    }
   ],
   "source": [
    "#Function definition\n",
    "def multiply(a,b): #a=10 b = 20\n",
    "    c = a * b\n",
    "    return \"The multiplied output is \" + str(c)\n",
    "\n",
    "#Function call1\n",
    "print(multiply(10,20))\n",
    "print(multiply(11,22))"
   ]
  },
  {
   "cell_type": "code",
   "execution_count": null,
   "metadata": {},
   "outputs": [],
   "source": [
    "#return last line of the function defintion to be exectued"
   ]
  },
  {
   "cell_type": "code",
   "execution_count": 12,
   "metadata": {},
   "outputs": [
    {
     "name": "stdout",
     "output_type": "stream",
     "text": [
      "200\n",
      "None\n"
     ]
    }
   ],
   "source": [
    "def multiply(a,b): #a=10 b = 20\n",
    "    c = a * b\n",
    "    print(c)\n",
    "\n",
    "#Function call1\n",
    "print(multiply(10,20))"
   ]
  },
  {
   "cell_type": "code",
   "execution_count": 13,
   "metadata": {},
   "outputs": [
    {
     "ename": "TypeError",
     "evalue": "multiply() takes 2 positional arguments but 3 were given",
     "output_type": "error",
     "traceback": [
      "\u001b[1;31m---------------------------------------------------------------------------\u001b[0m",
      "\u001b[1;31mTypeError\u001b[0m                                 Traceback (most recent call last)",
      "\u001b[1;32m<ipython-input-13-c19406d91914>\u001b[0m in \u001b[0;36m<module>\u001b[1;34m\u001b[0m\n\u001b[0;32m      5\u001b[0m \u001b[1;33m\u001b[0m\u001b[0m\n\u001b[0;32m      6\u001b[0m \u001b[1;31m#Function call1\u001b[0m\u001b[1;33m\u001b[0m\u001b[1;33m\u001b[0m\u001b[1;33m\u001b[0m\u001b[0m\n\u001b[1;32m----> 7\u001b[1;33m \u001b[0mprint\u001b[0m\u001b[1;33m(\u001b[0m\u001b[0mmultiply\u001b[0m\u001b[1;33m(\u001b[0m\u001b[1;36m10\u001b[0m\u001b[1;33m,\u001b[0m\u001b[1;36m20\u001b[0m\u001b[1;33m,\u001b[0m\u001b[1;36m30\u001b[0m\u001b[1;33m)\u001b[0m\u001b[1;33m)\u001b[0m\u001b[1;33m\u001b[0m\u001b[1;33m\u001b[0m\u001b[0m\n\u001b[0m\u001b[0;32m      8\u001b[0m \u001b[0mprint\u001b[0m\u001b[1;33m(\u001b[0m\u001b[0mmultiply\u001b[0m\u001b[1;33m(\u001b[0m\u001b[1;36m11\u001b[0m\u001b[1;33m,\u001b[0m\u001b[1;36m22\u001b[0m\u001b[1;33m)\u001b[0m\u001b[1;33m)\u001b[0m\u001b[1;33m\u001b[0m\u001b[1;33m\u001b[0m\u001b[0m\n",
      "\u001b[1;31mTypeError\u001b[0m: multiply() takes 2 positional arguments but 3 were given"
     ]
    }
   ],
   "source": [
    "#Function definition\n",
    "def multiply(a,b): #a=10 b = 20\n",
    "    c = a * b\n",
    "    return \"The multiplied output is \" + str(c)\n",
    "\n",
    "#Function call1\n",
    "print(multiply(10,20))\n",
    "print(multiply(11,22))"
   ]
  },
  {
   "cell_type": "code",
   "execution_count": null,
   "metadata": {},
   "outputs": [],
   "source": []
  }
 ],
 "metadata": {
  "kernelspec": {
   "display_name": "Python 3",
   "language": "python",
   "name": "python3"
  },
  "language_info": {
   "codemirror_mode": {
    "name": "ipython",
    "version": 3
   },
   "file_extension": ".py",
   "mimetype": "text/x-python",
   "name": "python",
   "nbconvert_exporter": "python",
   "pygments_lexer": "ipython3",
   "version": "3.7.6"
  }
 },
 "nbformat": 4,
 "nbformat_minor": 4
}
