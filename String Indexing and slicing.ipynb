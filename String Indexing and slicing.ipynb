{
 "cells": [
  {
   "cell_type": "markdown",
   "metadata": {},
   "source": [
    "## Indexing"
   ]
  },
  {
   "cell_type": "code",
   "execution_count": null,
   "metadata": {},
   "outputs": [],
   "source": [
    "#arranging\n",
    "\n",
    "#What is string:\n",
    "\n",
    "#List of chars or collection of chars\n",
    "\n",
    "#Whatever we are mentioning inside \" \"  or ' '"
   ]
  },
  {
   "cell_type": "code",
   "execution_count": 1,
   "metadata": {},
   "outputs": [
    {
     "name": "stdout",
     "output_type": "stream",
     "text": [
      "python\n",
      "<class 'str'>\n"
     ]
    }
   ],
   "source": [
    "a = \"python\"\n",
    "\n",
    "print(a)\n",
    "\n",
    "print(type(a))"
   ]
  },
  {
   "cell_type": "code",
   "execution_count": null,
   "metadata": {},
   "outputs": [],
   "source": [
    "#Two types:\n",
    "\n",
    "#Forward indexing  (starts from 0)\n",
    "#Reverse indexing  (starts from -1)"
   ]
  },
  {
   "cell_type": "code",
   "execution_count": 2,
   "metadata": {},
   "outputs": [
    {
     "name": "stdout",
     "output_type": "stream",
     "text": [
      "python\n",
      "<class 'str'>\n",
      "p\n",
      "h\n"
     ]
    }
   ],
   "source": [
    "#[] ==> square braces ==> indexing and slicing\n",
    "\n",
    "a = \"python\"\n",
    "\n",
    "print(a)\n",
    "\n",
    "print(type(a))\n",
    "\n",
    "print(a[0])\n",
    "\n",
    "print(a[-3])"
   ]
  },
  {
   "cell_type": "code",
   "execution_count": 3,
   "metadata": {},
   "outputs": [
    {
     "name": "stdout",
     "output_type": "stream",
     "text": [
      "r\n",
      "c\n",
      "u\n",
      "u\n",
      "m\n",
      "e\n"
     ]
    }
   ],
   "source": [
    "a = \"computer\"\n",
    "\n",
    "print(a[-1]) #last char\n",
    "print(a[0]) #first char\n",
    "\n",
    "print(a[4])\n",
    "print(a[-4])\n",
    "\n",
    "print(a[2])\n",
    "print(a[-2])\n",
    "\n",
    "#Forward indexing positive values to chars/indices\n",
    "#Reverse indexing negative value to char or indices\n",
    "\n"
   ]
  },
  {
   "cell_type": "markdown",
   "metadata": {},
   "source": [
    "## Slicing"
   ]
  },
  {
   "cell_type": "code",
   "execution_count": null,
   "metadata": {},
   "outputs": [],
   "source": [
    "a = \"python\"\n",
    "\n",
    "#Indexing ===> extracting one letter\n",
    "#Slicing ===> Extracting substring\n",
    "\n",
    "#Type 1 2 3 4 5"
   ]
  },
  {
   "cell_type": "markdown",
   "metadata": {},
   "source": [
    "## Type 1"
   ]
  },
  {
   "cell_type": "code",
   "execution_count": 1,
   "metadata": {},
   "outputs": [
    {
     "name": "stdout",
     "output_type": "stream",
     "text": [
      "n\n",
      "h\n",
      "t\n"
     ]
    }
   ],
   "source": [
    "var = \"python\"\n",
    "\n",
    "print(var[-1])\n",
    "print(var[-3])\n",
    "print(var[2])"
   ]
  },
  {
   "cell_type": "code",
   "execution_count": null,
   "metadata": {},
   "outputs": [],
   "source": [
    "#[starting index (including) : ending index (excluding) : index interval(optional)]"
   ]
  },
  {
   "cell_type": "code",
   "execution_count": 2,
   "metadata": {},
   "outputs": [
    {
     "name": "stdout",
     "output_type": "stream",
     "text": [
      "yt\n",
      "pytho\n",
      "yth\n",
      "pyt\n",
      "hon\n",
      "python\n"
     ]
    }
   ],
   "source": [
    "#Type 1:\n",
    "\n",
    "#only start value and end value available \n",
    "#start to end moving in Forward direction (if string moves in reverse direction for Type 1 it will return empty string)\n",
    "\n",
    "var = \"python\"\n",
    "\n",
    "print(var[1:3])\n",
    "print(var[0:5])\n",
    "print(var[-5:-2])\n",
    "print(var[:3])\n",
    "print(var[3:])\n",
    "print(var[:])"
   ]
  },
  {
   "cell_type": "code",
   "execution_count": 8,
   "metadata": {},
   "outputs": [
    {
     "name": "stdout",
     "output_type": "stream",
     "text": [
      "tho\n",
      "tho\n",
      "tho\n",
      "tho\n"
     ]
    }
   ],
   "source": [
    "#tho\n",
    "\n",
    "var = \"python\"\n",
    "\n",
    "print(var[2:5])\n",
    "print(var[-4:-1])\n",
    "print(var[2:-1])\n",
    "print(var[-4:5])\n"
   ]
  },
  {
   "cell_type": "code",
   "execution_count": 9,
   "metadata": {},
   "outputs": [
    {
     "name": "stdout",
     "output_type": "stream",
     "text": [
      "mputer_s\n",
      "mputer_s\n",
      "mue_\n",
      "mt_\n",
      "uter_s\n",
      "uter_s\n",
      "ue_\n",
      "ur\n"
     ]
    }
   ],
   "source": [
    "#Type 2:\n",
    "\n",
    "\n",
    "#starting value / ending value /index interval all are there\n",
    "#start to end moving in Forward direction (if string moves in reverse direction for Type 1 it will return empty string)\n",
    "#index interval should be a positive value\n",
    "\n",
    "\n",
    "\n",
    "var = \"computer_science\"\n",
    "\n",
    "print(var[2:10])\n",
    "print(var[2:10:1])\n",
    "print(var[2:10:2])\n",
    "print(var[2:10:3])\n",
    "print(var[-12:10])\n",
    "print(var[-12:10:1])\n",
    "print(var[-12:10:2])\n",
    "print(var[-12:10:3])\n",
    "\n",
    "\n"
   ]
  },
  {
   "cell_type": "code",
   "execution_count": null,
   "metadata": {},
   "outputs": [],
   "source": [
    "mputer_s\n",
    "mputer_s\n",
    "mue_\n",
    "mt_\n",
    "uter_s\n",
    "uter_s\n",
    "ue_\n",
    "ur\n"
   ]
  }
 ],
 "metadata": {
  "kernelspec": {
   "display_name": "Python 3",
   "language": "python",
   "name": "python3"
  },
  "language_info": {
   "codemirror_mode": {
    "name": "ipython",
    "version": 3
   },
   "file_extension": ".py",
   "mimetype": "text/x-python",
   "name": "python",
   "nbconvert_exporter": "python",
   "pygments_lexer": "ipython3",
   "version": "3.7.6"
  }
 },
 "nbformat": 4,
 "nbformat_minor": 4
}
