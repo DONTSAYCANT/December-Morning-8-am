{
 "cells": [
  {
   "cell_type": "markdown",
   "metadata": {},
   "source": [
    "## Indexing"
   ]
  },
  {
   "cell_type": "code",
   "execution_count": null,
   "metadata": {},
   "outputs": [],
   "source": [
    "#arranging\n",
    "\n",
    "#What is string:\n",
    "\n",
    "#List of chars or collection of chars\n",
    "\n",
    "#Whatever we are mentioning inside \" \"  or ' '"
   ]
  },
  {
   "cell_type": "code",
   "execution_count": 1,
   "metadata": {},
   "outputs": [
    {
     "name": "stdout",
     "output_type": "stream",
     "text": [
      "python\n",
      "<class 'str'>\n"
     ]
    }
   ],
   "source": [
    "a = \"python\"\n",
    "\n",
    "print(a)\n",
    "\n",
    "print(type(a))"
   ]
  },
  {
   "cell_type": "code",
   "execution_count": null,
   "metadata": {},
   "outputs": [],
   "source": [
    "#Two types:\n",
    "\n",
    "#Forward indexing  (starts from 0)\n",
    "#Reverse indexing  (starts from -1)"
   ]
  },
  {
   "cell_type": "code",
   "execution_count": 2,
   "metadata": {},
   "outputs": [
    {
     "name": "stdout",
     "output_type": "stream",
     "text": [
      "python\n",
      "<class 'str'>\n",
      "p\n",
      "h\n"
     ]
    }
   ],
   "source": [
    "#[] ==> square braces ==> indexing and slicing\n",
    "\n",
    "a = \"python\"\n",
    "\n",
    "print(a)\n",
    "\n",
    "print(type(a))\n",
    "\n",
    "print(a[0])\n",
    "\n",
    "print(a[-3])"
   ]
  },
  {
   "cell_type": "code",
   "execution_count": 3,
   "metadata": {},
   "outputs": [
    {
     "name": "stdout",
     "output_type": "stream",
     "text": [
      "r\n",
      "c\n",
      "u\n",
      "u\n",
      "m\n",
      "e\n"
     ]
    }
   ],
   "source": [
    "a = \"computer\"\n",
    "\n",
    "print(a[-1]) #last char\n",
    "print(a[0]) #first char\n",
    "\n",
    "print(a[4])\n",
    "print(a[-4])\n",
    "\n",
    "print(a[2])\n",
    "print(a[-2])\n",
    "\n",
    "#Forward indexing positive values to chars/indices\n",
    "#Reverse indexing negative value to char or indices\n",
    "\n"
   ]
  },
  {
   "cell_type": "markdown",
   "metadata": {},
   "source": [
    "## slicing"
   ]
  },
  {
   "cell_type": "code",
   "execution_count": null,
   "metadata": {},
   "outputs": [],
   "source": []
  }
 ],
 "metadata": {
  "kernelspec": {
   "display_name": "Python 3",
   "language": "python",
   "name": "python3"
  },
  "language_info": {
   "codemirror_mode": {
    "name": "ipython",
    "version": 3
   },
   "file_extension": ".py",
   "mimetype": "text/x-python",
   "name": "python",
   "nbconvert_exporter": "python",
   "pygments_lexer": "ipython3",
   "version": "3.7.6"
  }
 },
 "nbformat": 4,
 "nbformat_minor": 4
}
