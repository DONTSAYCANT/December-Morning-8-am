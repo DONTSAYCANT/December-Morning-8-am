{
 "cells": [
  {
   "cell_type": "code",
   "execution_count": null,
   "metadata": {},
   "outputs": [],
   "source": [
    "#check whether number is prime or no\n",
    "\n",
    "#what is prime number\n",
    "\n",
    "\n",
    "#2 is the first prime \n",
    "\n",
    "#prime\n",
    "\n",
    "#2  ==> 1,2\n",
    "#3  ==> 1,3\n",
    "#5  ==> 1,5\n",
    "#7  ==> 1,7\n",
    "#11 ==> 1,11\n",
    "#13 ==> 1,13\n",
    "\n",
    "\n",
    "#Non prime number\n",
    "#4 ==> 1,2,4\n",
    "#6 ==> 1,2,3,6\n",
    "#8 ==> 1,2,4,8\n",
    "#9 ==> 1,3,9\n",
    "#10 ==> 1,2,5,10\n",
    "#12 ==> 1,2,3,4,6,12"
   ]
  },
  {
   "cell_type": "code",
   "execution_count": 4,
   "metadata": {},
   "outputs": [
    {
     "name": "stdout",
     "output_type": "stream",
     "text": [
      "prime number\n"
     ]
    }
   ],
   "source": [
    "a = 11\n",
    "\n",
    "#2,3,4,5,6,7,8,9,10\n",
    "\n",
    "for i in range(2,a):\n",
    "    if a % i == 0:\n",
    "        print(\"Non prime number\")\n",
    "        break\n",
    "else:\n",
    "    print(\"prime number\")\n",
    "    "
   ]
  },
  {
   "cell_type": "code",
   "execution_count": 5,
   "metadata": {},
   "outputs": [
    {
     "name": "stdout",
     "output_type": "stream",
     "text": [
      "Non prime number\n"
     ]
    }
   ],
   "source": [
    "a = 12\n",
    "#2,3,4,5,6,7,8,9,10,11\n",
    "\n",
    "for i in range(2,a):\n",
    "    if a % i == 0:\n",
    "        print(\"Non prime number\")\n",
    "        break\n",
    "else:\n",
    "    print(\"prime number\")"
   ]
  },
  {
   "cell_type": "code",
   "execution_count": null,
   "metadata": {},
   "outputs": [],
   "source": [
    "#armstrong number\n",
    "\n",
    "\n",
    "152 = 1^3 + 5 ^3 + 2 ^3\n",
    "1 + 125 + 8\n",
    "#134\n",
    "\n",
    "153 = 1^3 + 5 ^3 + 3 ^3 = 1 + 125 + 27\n",
    "370\n",
    "\n",
    "#Str conversion\n",
    "#with out converting to string\n"
   ]
  },
  {
   "cell_type": "code",
   "execution_count": 6,
   "metadata": {},
   "outputs": [
    {
     "name": "stdout",
     "output_type": "stream",
     "text": [
      "1\n",
      "5\n",
      "2\n"
     ]
    }
   ],
   "source": [
    "a = 152\n",
    "\n",
    "for i in str(a):\n",
    "    print(i)"
   ]
  },
  {
   "cell_type": "code",
   "execution_count": null,
   "metadata": {},
   "outputs": [],
   "source": [
    "a = 152\n",
    "\n",
    "remainder = a%10 #2 #5 #1\n",
    "quotient = a // 10 #15  #1 #0\n",
    "\n",
    "#while loop"
   ]
  },
  {
   "cell_type": "code",
   "execution_count": null,
   "metadata": {},
   "outputs": [],
   "source": [
    "#Hacker "
   ]
  }
 ],
 "metadata": {
  "kernelspec": {
   "display_name": "Python 3",
   "language": "python",
   "name": "python3"
  },
  "language_info": {
   "codemirror_mode": {
    "name": "ipython",
    "version": 3
   },
   "file_extension": ".py",
   "mimetype": "text/x-python",
   "name": "python",
   "nbconvert_exporter": "python",
   "pygments_lexer": "ipython3",
   "version": "3.7.6"
  }
 },
 "nbformat": 4,
 "nbformat_minor": 4
}
