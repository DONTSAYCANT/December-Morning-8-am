{
 "cells": [
  {
   "cell_type": "code",
   "execution_count": null,
   "metadata": {},
   "outputs": [],
   "source": [
    "#Boolean Data type\n",
    "#Comparison operator\n",
    "#Assignment operator\n",
    "#Logical operators: or and not \n",
    "\n",
    "\n",
    "#keywords: if elif else\n",
    "\n",
    "#membership operator in and not in\n",
    "\n",
    "#condition with out boolean DT, eg.integer\n",
    "\n",
    "#Sample pgms\n",
    "\n",
    "#even odd check\n",
    "#positive / negative\n",
    "#Palindrome check\n",
    "#first char last char check\n"
   ]
  },
  {
   "cell_type": "code",
   "execution_count": null,
   "metadata": {},
   "outputs": [],
   "source": [
    "#Condition stmt: Decison making stmts, control flow stmts"
   ]
  },
  {
   "cell_type": "code",
   "execution_count": null,
   "metadata": {},
   "outputs": [],
   "source": [
    "#True\n",
    "#False\n",
    "\n"
   ]
  },
  {
   "cell_type": "code",
   "execution_count": null,
   "metadata": {},
   "outputs": [],
   "source": [
    "#Comparison operator\n",
    "\n",
    "\n",
    "#< <= > >=  == !=\n",
    "\n",
    "#Assignment operator\n",
    "\n",
    "#="
   ]
  },
  {
   "cell_type": "code",
   "execution_count": 4,
   "metadata": {},
   "outputs": [
    {
     "name": "stdout",
     "output_type": "stream",
     "text": [
      "False\n",
      "True\n",
      "True\n"
     ]
    }
   ],
   "source": [
    "a = 12 #Assignment operator\n",
    "b = 10 #Assignment operator\n",
    "\n",
    "print(a == b) #comparison operator\n",
    "print(a > b)\n",
    "print(a != b)"
   ]
  },
  {
   "cell_type": "code",
   "execution_count": 8,
   "metadata": {},
   "outputs": [
    {
     "name": "stdout",
     "output_type": "stream",
     "text": [
      "False\n",
      "False\n",
      "True\n",
      "False\n",
      "False\n",
      "True\n",
      "True\n",
      "True\n"
     ]
    }
   ],
   "source": [
    "a = 10\n",
    "b = 20\n",
    "\n",
    "c = 30\n",
    "\n",
    "print(a > b  and b > c)\n",
    "print(a < b  and b > c)\n",
    "print(a < b  and b < c) #all of them are True\n",
    "print(a > b  and b < c)\n",
    "\n",
    "\n",
    "print(a > b  or b > c) #all of them are False\n",
    "print(a < b  or b > c)\n",
    "print(a < b  or b < c) #all of them are True\n",
    "print(a > b  or b < c)\n",
    "\n",
    "\n",
    "#AND gate\n",
    "\n",
    "#If All the outputs are True then True otherwise False\n",
    "\n",
    "\n",
    "#OR gate\n",
    "\n",
    "#If All the outputs are False then False othereise True\n"
   ]
  },
  {
   "cell_type": "code",
   "execution_count": 13,
   "metadata": {},
   "outputs": [
    {
     "name": "stdout",
     "output_type": "stream",
     "text": [
      "True\n",
      "False\n",
      "False\n",
      "True\n",
      "True\n"
     ]
    }
   ],
   "source": [
    "#membership operator in and not in\n",
    "\n",
    "\n",
    "Li1 = [5,6,7,10,12]\n",
    "\n",
    "#in ==> membership operator\n",
    "\n",
    "print(10 in Li1)\n",
    "print(15 in Li1)\n",
    "\n",
    "print(\"pz\" in \"python\")\n",
    "print(\"on\" in \"python\")\n",
    "\n",
    "print(\"pz\" not in \"python\")\n"
   ]
  },
  {
   "cell_type": "code",
   "execution_count": null,
   "metadata": {},
   "outputs": [],
   "source": [
    "#if\n",
    "#if else\n",
    "#if elif elif elif elif\n",
    "#if elif elif elif elif elif else\n",
    "\n"
   ]
  },
  {
   "cell_type": "code",
   "execution_count": 14,
   "metadata": {},
   "outputs": [
    {
     "name": "stdout",
     "output_type": "stream",
     "text": [
      "The number is postive\n"
     ]
    }
   ],
   "source": [
    "#postive or negative or zero check\n",
    "\n",
    "a = 15\n",
    "\n",
    "if a > 0:\n",
    "    print(\"The number is positive\")\n",
    "elif a < 0:\n",
    "    print(\"The number is negative\")\n",
    "else:\n",
    "    print(\"The numbe is zero\")"
   ]
  },
  {
   "cell_type": "code",
   "execution_count": 16,
   "metadata": {},
   "outputs": [
    {
     "name": "stdout",
     "output_type": "stream",
     "text": [
      "The number is postive\n"
     ]
    }
   ],
   "source": [
    "a = 15\n",
    "\n",
    "if a > 0:\n",
    "    print(\"The number is positive\")\n",
    "elif a < 0:\n",
    "    print(\"The number is negative\")\n",
    "elif a == 0:\n",
    "    print(\"The numbe is zero\")"
   ]
  },
  {
   "cell_type": "code",
   "execution_count": 17,
   "metadata": {},
   "outputs": [
    {
     "name": "stdout",
     "output_type": "stream",
     "text": [
      "the number is odd\n"
     ]
    }
   ],
   "source": [
    "#even odd check\n",
    "\n",
    "a = 21\n",
    "\n",
    "if a%2 == 0:\n",
    "    print(\"the number is even\")\n",
    "else:\n",
    "    print(\"the number is odd\")\n",
    "    \n"
   ]
  },
  {
   "cell_type": "code",
   "execution_count": 19,
   "metadata": {},
   "outputs": [
    {
     "name": "stdout",
     "output_type": "stream",
     "text": [
      "The above mentioned string is palindrome\n"
     ]
    }
   ],
   "source": [
    "#Palindrome check\n",
    "\n",
    "#malayalam\n",
    "#amma\n",
    "a = \"dad\"\n",
    "b = a[::-1]\n",
    "\n",
    "if a == b:\n",
    "    print(\"The above mentioned string is palindrome\")\n",
    "else:\n",
    "    print(\"This is not palindrome\")\n",
    "\n"
   ]
  },
  {
   "cell_type": "code",
   "execution_count": 24,
   "metadata": {},
   "outputs": [
    {
     "name": "stdout",
     "output_type": "stream",
     "text": [
      "The above mentioned string is palindrome\n",
      "if condition\n"
     ]
    }
   ],
   "source": [
    "a = \"dad\"\n",
    "b = a[::-1]\n",
    "\n",
    "if a == b:\n",
    "    print(\"The above mentioned string is palindrome\")\n",
    "    print(\"if condition\")\n",
    "else:\n",
    "    print(\"This is not palindrome\")"
   ]
  },
  {
   "cell_type": "code",
   "execution_count": null,
   "metadata": {},
   "outputs": [],
   "source": [
    "if a > b {\n",
    "    \n",
    "    \n",
    "}"
   ]
  },
  {
   "cell_type": "code",
   "execution_count": 27,
   "metadata": {},
   "outputs": [
    {
     "name": "stdout",
     "output_type": "stream",
     "text": [
      "please enter your mark, it should be less than 500 and greater than 0: 600\n",
      "please enter a valid mark\n"
     ]
    }
   ],
   "source": [
    "#450 + ==> hhhh university\n",
    "#400 + ==> ggg university\n",
    "#300 + ==> lll university\n",
    "#less than 200 ==> no college\n",
    "\n",
    "a = int(input(\"please enter your mark, it should be less than 500 and greater than 0: \"))\n",
    "\n",
    "if a > 0 and a < 500:\n",
    "    print(\"It's valid mark\")\n",
    "    if a > 450:\n",
    "        print(\"Your college name is hhhh university\")\n",
    "    elif a > 400:\n",
    "        print(\"Your college name is ggg university\")\n",
    "    elif a > 300:\n",
    "        print(\"Your college name is lll university\")\n",
    "    elif a < 200:\n",
    "        print(\"No college alloctaed\")\n",
    "else:\n",
    "    print(\"please enter a valid mark\")"
   ]
  },
  {
   "cell_type": "code",
   "execution_count": null,
   "metadata": {},
   "outputs": [],
   "source": [
    "#Indentation\n",
    "\n",
    "#Scope / "
   ]
  },
  {
   "cell_type": "code",
   "execution_count": null,
   "metadata": {},
   "outputs": [],
   "source": [
    "#first char last char check"
   ]
  }
 ],
 "metadata": {
  "kernelspec": {
   "display_name": "Python 3",
   "language": "python",
   "name": "python3"
  },
  "language_info": {
   "codemirror_mode": {
    "name": "ipython",
    "version": 3
   },
   "file_extension": ".py",
   "mimetype": "text/x-python",
   "name": "python",
   "nbconvert_exporter": "python",
   "pygments_lexer": "ipython3",
   "version": "3.7.6"
  }
 },
 "nbformat": 4,
 "nbformat_minor": 4
}
