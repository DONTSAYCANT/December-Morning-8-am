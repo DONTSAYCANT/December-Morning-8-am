{
 "cells": [
  {
   "cell_type": "code",
   "execution_count": null,
   "metadata": {},
   "outputs": [],
   "source": [
    "#https://www.programiz.com/python-programming/regex\n",
    "#https://regex101.com/"
   ]
  },
  {
   "cell_type": "code",
   "execution_count": null,
   "metadata": {},
   "outputs": [],
   "source": [
    "#Regular Expression\n",
    "\n",
    "\n",
    "#Extracting some common patterns from your resume\n",
    "#kannanparthipan@gmail.com\n",
    "#ddddddd@hotmail.com\n",
    "#eeeeegnhgjkg9000@outlook.com\n",
    "\n",
    "<alphanumeric>@(outlook|yahoo|hotmail|gmail).com\n",
    "\n",
    "\\d{10} ==> contact no\n",
    "\n",
    "93 %  3.4 CGPA\n",
    "\n",
    "Writing pattern ===> regular expression\n",
    "\n",
    "#password restriction ===> \n",
    "\n",
    "regular expression\n",
    "\n",
    "BE  BCA  MCA PHD \n",
    "\n",
    "#pattern matching\n",
    "\n",
    "\n",
    "#Log: \n",
    "\n"
   ]
  },
  {
   "cell_type": "code",
   "execution_count": null,
   "metadata": {},
   "outputs": [],
   "source": [
    "Part1:\n",
    "    \n",
    "  \n",
    "How to write regular expression \n",
    "\n",
    "small language \n",
    "\n",
    "\n",
    "\\d ==> digit\n",
    "\\D ==> Non digit\n",
    "\\s ==> space\n",
    "\\S ==> Non space\n",
    "\\w ==> word character\n",
    "\\W ==> Non word character\n",
    "\n",
    "\n",
    "\\A\n",
    "\\Z\n",
    "\\b\n",
    "\\B\n",
    "\n",
    "\n",
    "Quantifiers:\n",
    "    \n",
    "* 0 or more\n",
    "+ 1 or more\n",
    "? 0 or 1\n",
    "{} specified number or range\n",
    "\n",
    "\n",
    ".\n",
    "[]\n",
    "[^]\n",
    "^ $\n",
    "|\n",
    "\n",
    "\n",
    "Part2:\n",
    "\n",
    "    \n",
    "How to extract the value from code (Resume, \"maobile number, email id \") ===> output\n",
    "    \n",
    "    \n",
    "    "
   ]
  }
 ],
 "metadata": {
  "kernelspec": {
   "display_name": "Python 3",
   "language": "python",
   "name": "python3"
  },
  "language_info": {
   "codemirror_mode": {
    "name": "ipython",
    "version": 3
   },
   "file_extension": ".py",
   "mimetype": "text/x-python",
   "name": "python",
   "nbconvert_exporter": "python",
   "pygments_lexer": "ipython3",
   "version": "3.7.6"
  }
 },
 "nbformat": 4,
 "nbformat_minor": 4
}
